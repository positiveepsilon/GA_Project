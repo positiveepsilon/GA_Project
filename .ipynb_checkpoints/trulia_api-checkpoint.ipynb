{
 "cells": [
  {
   "cell_type": "markdown",
   "metadata": {},
   "source": [
    "## On terminal"
   ]
  },
  {
   "cell_type": "markdown",
   "metadata": {},
   "source": [
    "pip install trulia"
   ]
  },
  {
   "cell_type": "code",
   "execution_count": 1,
   "metadata": {
    "collapsed": false
   },
   "outputs": [],
   "source": [
    "import trulia.stats\n",
    "import trulia.location\n",
    "import pandas as pd"
   ]
  },
  {
   "cell_type": "code",
   "execution_count": 2,
   "metadata": {
    "collapsed": false
   },
   "outputs": [],
   "source": [
    "# DELETE\n",
    "TRULIA_KEY = \"\""
   ]
  },
  {
   "cell_type": "code",
   "execution_count": 3,
   "metadata": {
    "collapsed": false
   },
   "outputs": [],
   "source": [
    "# Get all the cities in California\n",
    "# This is a list\n",
    "#cities = trulia.location.LocationInfo(TRULIA_KEY).get_cities_in_state(\"CA\")\n"
   ]
  },
  {
   "cell_type": "code",
   "execution_count": 4,
   "metadata": {
    "collapsed": false
   },
   "outputs": [],
   "source": [
    "# print cities\n",
    "# len(cities)"
   ]
  },
  {
   "cell_type": "code",
   "execution_count": 6,
   "metadata": {
    "collapsed": false
   },
   "outputs": [],
   "source": [
    "# Convert to Pandas DataFrame\n",
    "#cities_df = pd.DataFrame(cities)"
   ]
  },
  {
   "cell_type": "code",
   "execution_count": 42,
   "metadata": {
    "collapsed": false
   },
   "outputs": [],
   "source": [
    "#cities_df.head()"
   ]
  },
  {
   "cell_type": "markdown",
   "metadata": {},
   "source": [
    "Don't need cities_df above."
   ]
  },
  {
   "cell_type": "code",
   "execution_count": 49,
   "metadata": {
    "collapsed": false
   },
   "outputs": [],
   "source": [
    "neighborhoods = trulia.location.LocationInfo(TRULIA_KEY).get_neighborhoods_in_city(\"San Francisco\", \"CA\")\n",
    "#print neighborhoods\n",
    "#neighborhoods[0:]\n",
    "nhoods_df = pd.DataFrame(neighborhoods)"
   ]
  },
  {
   "cell_type": "code",
   "execution_count": 50,
   "metadata": {
    "collapsed": false
   },
   "outputs": [
    {
     "data": {
      "text/html": [
       "<div style=\"max-height:1000px;max-width:1500px;overflow:auto;\">\n",
       "<table border=\"1\" class=\"dataframe\">\n",
       "  <thead>\n",
       "    <tr style=\"text-align: right;\">\n",
       "      <th></th>\n",
       "      <th>id</th>\n",
       "      <th>name</th>\n",
       "    </tr>\n",
       "  </thead>\n",
       "  <tbody>\n",
       "    <tr>\n",
       "      <th>0</th>\n",
       "      <td> 1386</td>\n",
       "      <td>     Alamo Square</td>\n",
       "    </tr>\n",
       "    <tr>\n",
       "      <th>1</th>\n",
       "      <td> 1387</td>\n",
       "      <td>       Anza Vista</td>\n",
       "    </tr>\n",
       "    <tr>\n",
       "      <th>2</th>\n",
       "      <td> 1388</td>\n",
       "      <td>  Ashbury Heights</td>\n",
       "    </tr>\n",
       "    <tr>\n",
       "      <th>3</th>\n",
       "      <td> 1389</td>\n",
       "      <td>   Balboa Terrace</td>\n",
       "    </tr>\n",
       "    <tr>\n",
       "      <th>4</th>\n",
       "      <td> 1390</td>\n",
       "      <td>          Bayview</td>\n",
       "    </tr>\n",
       "    <tr>\n",
       "      <th>5</th>\n",
       "      <td> 1391</td>\n",
       "      <td>   Bernal Heights</td>\n",
       "    </tr>\n",
       "    <tr>\n",
       "      <th>6</th>\n",
       "      <td> 1392</td>\n",
       "      <td>    Bernt's Knoll</td>\n",
       "    </tr>\n",
       "    <tr>\n",
       "      <th>7</th>\n",
       "      <td> 1393</td>\n",
       "      <td> Buena Vista Park</td>\n",
       "    </tr>\n",
       "    <tr>\n",
       "      <th>8</th>\n",
       "      <td> 1394</td>\n",
       "      <td>           Castro</td>\n",
       "    </tr>\n",
       "    <tr>\n",
       "      <th>9</th>\n",
       "      <td> 1395</td>\n",
       "      <td> Central Richmond</td>\n",
       "    </tr>\n",
       "  </tbody>\n",
       "</table>\n",
       "</div>"
      ],
      "text/plain": [
       "     id              name\n",
       "0  1386      Alamo Square\n",
       "1  1387        Anza Vista\n",
       "2  1388   Ashbury Heights\n",
       "3  1389    Balboa Terrace\n",
       "4  1390           Bayview\n",
       "5  1391    Bernal Heights\n",
       "6  1392     Bernt's Knoll\n",
       "7  1393  Buena Vista Park\n",
       "8  1394            Castro\n",
       "9  1395  Central Richmond"
      ]
     },
     "execution_count": 50,
     "metadata": {},
     "output_type": "execute_result"
    }
   ],
   "source": [
    "# Print first few rows\n",
    "nhoods_df.head(10)"
   ]
  },
  {
   "cell_type": "code",
   "execution_count": 36,
   "metadata": {
    "collapsed": false
   },
   "outputs": [
    {
     "data": {
      "text/plain": [
       "2"
      ]
     },
     "execution_count": 36,
     "metadata": {},
     "output_type": "execute_result"
    }
   ],
   "source": [
    "# city_stats Retrieves all statistics for a city within the given date range.\n",
    "# stat_typ The type of statistic you want to get. Valid types: {\"all\", \"traffic\", \"listings\"}\n",
    "SF_stats_listings = trulia.stats.TruliaStats(TRULIA_KEY).get_city_stats(city=\"San Francisco\", \n",
    "                                                                        state=\"CA\", \n",
    "                                                                        start_date=\"2014-01-01\", \n",
    "                                                                        end_date=\"2014-12-31\", \n",
    "                                                                        stat_type=\"listings\")\n",
    "len(SF_stats_listings)\n",
    "\n",
    "# This code only gives listings for SF, CA for 2014\n",
    "# Want to get traffic for the year also\n"
   ]
  },
  {
   "cell_type": "code",
   "execution_count": 37,
   "metadata": {
    "collapsed": false
   },
   "outputs": [
    {
     "data": {
      "text/plain": [
       "collections.OrderedDict"
      ]
     },
     "execution_count": 37,
     "metadata": {},
     "output_type": "execute_result"
    }
   ],
   "source": [
    "type(SF_stats_listings)"
   ]
  },
  {
   "cell_type": "code",
   "execution_count": 38,
   "metadata": {
    "collapsed": false
   },
   "outputs": [
    {
     "data": {
      "text/plain": [
       "[u'location', u'listingStats']"
      ]
     },
     "execution_count": 38,
     "metadata": {},
     "output_type": "execute_result"
    }
   ],
   "source": [
    "SF_stats_listings.keys()"
   ]
  },
  {
   "cell_type": "code",
   "execution_count": 39,
   "metadata": {
    "collapsed": false
   },
   "outputs": [],
   "source": [
    "listings_data_df = pd.DataFrame(SF_stats_listings)"
   ]
  },
  {
   "cell_type": "code",
   "execution_count": 40,
   "metadata": {
    "collapsed": false
   },
   "outputs": [
    {
     "data": {
      "text/html": [
       "<div style=\"max-height:1000px;max-width:1500px;overflow:auto;\">\n",
       "<table border=\"1\" class=\"dataframe\">\n",
       "  <thead>\n",
       "    <tr style=\"text-align: right;\">\n",
       "      <th></th>\n",
       "      <th>location</th>\n",
       "      <th>listingStats</th>\n",
       "    </tr>\n",
       "  </thead>\n",
       "  <tbody>\n",
       "    <tr>\n",
       "      <th>city</th>\n",
       "      <td>                                     San Francisco</td>\n",
       "      <td>                                              None</td>\n",
       "    </tr>\n",
       "    <tr>\n",
       "      <th>cityGuideURL</th>\n",
       "      <td> http://www.trulia.com/real_estate/San_Francisc...</td>\n",
       "      <td>                                              None</td>\n",
       "    </tr>\n",
       "    <tr>\n",
       "      <th>heatMapURL</th>\n",
       "      <td> http://www.trulia.com/home_prices/California/S...</td>\n",
       "      <td>                                              None</td>\n",
       "    </tr>\n",
       "    <tr>\n",
       "      <th>listingStat</th>\n",
       "      <td>                                              None</td>\n",
       "      <td> [{u'weekEndingDate': u'2014-01-04', u'listingP...</td>\n",
       "    </tr>\n",
       "    <tr>\n",
       "      <th>searchResultsURL</th>\n",
       "      <td>           http://www.trulia.com/CA/San_Francisco/</td>\n",
       "      <td>                                              None</td>\n",
       "    </tr>\n",
       "    <tr>\n",
       "      <th>state</th>\n",
       "      <td>                                                CA</td>\n",
       "      <td>                                              None</td>\n",
       "    </tr>\n",
       "  </tbody>\n",
       "</table>\n",
       "</div>"
      ],
      "text/plain": [
       "                                                           location  \\\n",
       "city                                                  San Francisco   \n",
       "cityGuideURL      http://www.trulia.com/real_estate/San_Francisc...   \n",
       "heatMapURL        http://www.trulia.com/home_prices/California/S...   \n",
       "listingStat                                                    None   \n",
       "searchResultsURL            http://www.trulia.com/CA/San_Francisco/   \n",
       "state                                                            CA   \n",
       "\n",
       "                                                       listingStats  \n",
       "city                                                           None  \n",
       "cityGuideURL                                                   None  \n",
       "heatMapURL                                                     None  \n",
       "listingStat       [{u'weekEndingDate': u'2014-01-04', u'listingP...  \n",
       "searchResultsURL                                               None  \n",
       "state                                                          None  "
      ]
     },
     "execution_count": 40,
     "metadata": {},
     "output_type": "execute_result"
    }
   ],
   "source": [
    "# Listings is nested two levels\n",
    "listings_data_df"
   ]
  },
  {
   "cell_type": "code",
   "execution_count": 41,
   "metadata": {
    "collapsed": false
   },
   "outputs": [
    {
     "data": {
      "text/plain": [
       "[OrderedDict([(u'weekEndingDate', u'2014-01-04'), (u'listingPrice', OrderedDict([(u'subcategory', [OrderedDict([(u'type', u'All Properties'), (u'numberOfProperties', u'296'), (u'medianListingPrice', u'978306'), (u'averageListingPrice', u'2002708')]), OrderedDict([(u'type', u'1 Bedroom Properties'), (u'numberOfProperties', u'40'), (u'medianListingPrice', u'638857'), (u'averageListingPrice', u'802517')]), OrderedDict([(u'type', u'2 Bedroom Properties'), (u'numberOfProperties', u'71'), (u'medianListingPrice', u'815357'), (u'averageListingPrice', u'965230')]), OrderedDict([(u'type', u'3 Bedroom Properties'), (u'numberOfProperties', u'75'), (u'medianListingPrice', u'1106500'), (u'averageListingPrice', u'1661002')]), OrderedDict([(u'type', u'4 Bedroom Properties'), (u'numberOfProperties', u'25'), (u'medianListingPrice', u'1488786'), (u'averageListingPrice', u'1691674')]), OrderedDict([(u'type', u'5 Bedroom Properties'), (u'numberOfProperties', u'16'), (u'medianListingPrice', u'2351429'), (u'averageListingPrice', u'3566517')]), OrderedDict([(u'type', u'6 Bedroom Properties'), (u'numberOfProperties', u'11'), (u'medianListingPrice', u'3039286'), (u'averageListingPrice', u'7088713')]), OrderedDict([(u'type', u'7 Bedroom Properties'), (u'numberOfProperties', u'5'), (u'medianListingPrice', u'3449143'), (u'averageListingPrice', u'9256286')]), OrderedDict([(u'type', u'8 Bedroom Properties'), (u'numberOfProperties', u'2'), (u'medianListingPrice', u'10525286'), (u'averageListingPrice', u'9806429')]), OrderedDict([(u'type', u'9 Bedroom Properties'), (u'numberOfProperties', u'1'), (u'medianListingPrice', u'10250000'), (u'averageListingPrice', u'10250000')]), OrderedDict([(u'type', u'10 Bedroom Properties'), (u'numberOfProperties', u'1'), (u'medianListingPrice', u'3795000'), (u'averageListingPrice', u'3795000')])])]))]),\n",
       " OrderedDict([(u'weekEndingDate', u'2014-01-11'), (u'listingPrice', OrderedDict([(u'subcategory', [OrderedDict([(u'type', u'All Properties'), (u'numberOfProperties', u'308'), (u'medianListingPrice', u'987857'), (u'averageListingPrice', u'1903477')]), OrderedDict([(u'type', u'1 Bedroom Properties'), (u'numberOfProperties', u'43'), (u'medianListingPrice', u'634357'), (u'averageListingPrice', u'786196')]), OrderedDict([(u'type', u'2 Bedroom Properties'), (u'numberOfProperties', u'82'), (u'medianListingPrice', u'809430'), (u'averageListingPrice', u'930383')]), OrderedDict([(u'type', u'3 Bedroom Properties'), (u'numberOfProperties', u'78'), (u'medianListingPrice', u'1167143'), (u'averageListingPrice', u'1596339')]), OrderedDict([(u'type', u'4 Bedroom Properties'), (u'numberOfProperties', u'25'), (u'medianListingPrice', u'1474321'), (u'averageListingPrice', u'1669665')]), OrderedDict([(u'type', u'5 Bedroom Properties'), (u'numberOfProperties', u'14'), (u'medianListingPrice', u'2350214'), (u'averageListingPrice', u'3665879')]), OrderedDict([(u'type', u'6 Bedroom Properties'), (u'numberOfProperties', u'8'), (u'medianListingPrice', u'2632000'), (u'averageListingPrice', u'7832506')]), OrderedDict([(u'type', u'7 Bedroom Properties'), (u'numberOfProperties', u'6'), (u'medianListingPrice', u'4699286'), (u'averageListingPrice', u'9321702')]), OrderedDict([(u'type', u'8 Bedroom Properties'), (u'numberOfProperties', u'2'), (u'medianListingPrice', u'8216143'), (u'averageListingPrice', u'9036714')]), OrderedDict([(u'type', u'9 Bedroom Properties'), (u'numberOfProperties', u'1'), (u'medianListingPrice', u'10250000'), (u'averageListingPrice', u'10250000')]), OrderedDict([(u'type', u'10 Bedroom Properties'), (u'numberOfProperties', u'1'), (u'medianListingPrice', u'3795000'), (u'averageListingPrice', u'3795000')])])]))]),\n",
       " OrderedDict([(u'weekEndingDate', u'2014-01-18'), (u'listingPrice', OrderedDict([(u'subcategory', [OrderedDict([(u'type', u'All Properties'), (u'numberOfProperties', u'371'), (u'medianListingPrice', u'936214'), (u'averageListingPrice', u'1704534')]), OrderedDict([(u'type', u'1 Bedroom Properties'), (u'numberOfProperties', u'59'), (u'medianListingPrice', u'687714'), (u'averageListingPrice', u'746893')]), OrderedDict([(u'type', u'2 Bedroom Properties'), (u'numberOfProperties', u'105'), (u'medianListingPrice', u'815429'), (u'averageListingPrice', u'926819')]), OrderedDict([(u'type', u'3 Bedroom Properties'), (u'numberOfProperties', u'96'), (u'medianListingPrice', u'1117643'), (u'averageListingPrice', u'1429735')]), OrderedDict([(u'type', u'4 Bedroom Properties'), (u'numberOfProperties', u'27'), (u'medianListingPrice', u'1738214'), (u'averageListingPrice', u'1787528')]), OrderedDict([(u'type', u'5 Bedroom Properties'), (u'numberOfProperties', u'15'), (u'medianListingPrice', u'1486643'), (u'averageListingPrice', u'3175845')]), OrderedDict([(u'type', u'6 Bedroom Properties'), (u'numberOfProperties', u'8'), (u'medianListingPrice', u'2527714'), (u'averageListingPrice', u'7191492')]), OrderedDict([(u'type', u'7 Bedroom Properties'), (u'numberOfProperties', u'6'), (u'medianListingPrice', u'6574500'), (u'averageListingPrice', u'9593000')]), OrderedDict([(u'type', u'8 Bedroom Properties'), (u'numberOfProperties', u'3'), (u'medianListingPrice', u'6575000'), (u'averageListingPrice', u'8489667')]), OrderedDict([(u'type', u'9 Bedroom Properties'), (u'numberOfProperties', u'1'), (u'medianListingPrice', u'10250000'), (u'averageListingPrice', u'10250000')]), OrderedDict([(u'type', u'10 Bedroom Properties'), (u'numberOfProperties', u'1'), (u'medianListingPrice', u'3645000'), (u'averageListingPrice', u'3645000')]), OrderedDict([(u'type', u'14 Bedroom Properties'), (u'numberOfProperties', u'1'), (u'medianListingPrice', u'19989000'), (u'averageListingPrice', u'19989000')])])]))]),\n",
       " OrderedDict([(u'weekEndingDate', u'2014-01-25'), (u'listingPrice', OrderedDict([(u'subcategory', [OrderedDict([(u'type', u'All Properties'), (u'numberOfProperties', u'404'), (u'medianListingPrice', u'916857'), (u'averageListingPrice', u'1688643')]), OrderedDict([(u'type', u'1 Bedroom Properties'), (u'numberOfProperties', u'70'), (u'medianListingPrice', u'682286'), (u'averageListingPrice', u'711242')]), OrderedDict([(u'type', u'2 Bedroom Properties'), (u'numberOfProperties', u'123'), (u'medianListingPrice', u'871857'), (u'averageListingPrice', u'962389')]), OrderedDict([(u'type', u'3 Bedroom Properties'), (u'numberOfProperties', u'107'), (u'medianListingPrice', u'1105214'), (u'averageListingPrice', u'1708373')]), OrderedDict([(u'type', u'4 Bedroom Properties'), (u'numberOfProperties', u'32'), (u'medianListingPrice', u'1766429'), (u'averageListingPrice', u'1860889')]), OrderedDict([(u'type', u'5 Bedroom Properties'), (u'numberOfProperties', u'15'), (u'medianListingPrice', u'1336500'), (u'averageListingPrice', u'3318183')]), OrderedDict([(u'type', u'6 Bedroom Properties'), (u'numberOfProperties', u'9'), (u'medianListingPrice', u'2645786'), (u'averageListingPrice', u'6922846')]), OrderedDict([(u'type', u'7 Bedroom Properties'), (u'numberOfProperties', u'5'), (u'medianListingPrice', u'10324929'), (u'averageListingPrice', u'10860543')]), OrderedDict([(u'type', u'8 Bedroom Properties'), (u'numberOfProperties', u'4'), (u'medianListingPrice', u'5267571'), (u'averageListingPrice', u'7562429')]), OrderedDict([(u'type', u'9 Bedroom Properties'), (u'numberOfProperties', u'1'), (u'medianListingPrice', u'10250000'), (u'averageListingPrice', u'10250000')]), OrderedDict([(u'type', u'10 Bedroom Properties'), (u'numberOfProperties', u'1'), (u'medianListingPrice', u'3495000'), (u'averageListingPrice', u'3495000')]), OrderedDict([(u'type', u'14 Bedroom Properties'), (u'numberOfProperties', u'1'), (u'medianListingPrice', u'19989000'), (u'averageListingPrice', u'19989000')])])]))]),\n",
       " OrderedDict([(u'weekEndingDate', u'2014-02-01'), (u'listingPrice', OrderedDict([(u'subcategory', [OrderedDict([(u'type', u'All Properties'), (u'numberOfProperties', u'419'), (u'medianListingPrice', u'926643'), (u'averageListingPrice', u'1722358')]), OrderedDict([(u'type', u'1 Bedroom Properties'), (u'numberOfProperties', u'79'), (u'medianListingPrice', u'653357'), (u'averageListingPrice', u'708770')]), OrderedDict([(u'type', u'2 Bedroom Properties'), (u'numberOfProperties', u'125'), (u'medianListingPrice', u'890429'), (u'averageListingPrice', u'979881')]), OrderedDict([(u'type', u'3 Bedroom Properties'), (u'numberOfProperties', u'102'), (u'medianListingPrice', u'1118071'), (u'averageListingPrice', u'1906345')]), OrderedDict([(u'type', u'4 Bedroom Properties'), (u'numberOfProperties', u'36'), (u'medianListingPrice', u'1461571'), (u'averageListingPrice', u'1774479')]), OrderedDict([(u'type', u'5 Bedroom Properties'), (u'numberOfProperties', u'19'), (u'medianListingPrice', u'1351071'), (u'averageListingPrice', u'2896239')]), OrderedDict([(u'type', u'6 Bedroom Properties'), (u'numberOfProperties', u'11'), (u'medianListingPrice', u'2538857'), (u'averageListingPrice', u'6218343')]), OrderedDict([(u'type', u'7 Bedroom Properties'), (u'numberOfProperties', u'6'), (u'medianListingPrice', u'7539286'), (u'averageListingPrice', u'9928569')]), OrderedDict([(u'type', u'8 Bedroom Properties'), (u'numberOfProperties', u'4'), (u'medianListingPrice', u'4287000'), (u'averageListingPrice', u'6867000')]), OrderedDict([(u'type', u'9 Bedroom Properties'), (u'numberOfProperties', u'1'), (u'medianListingPrice', u'10250000'), (u'averageListingPrice', u'10250000')]), OrderedDict([(u'type', u'10 Bedroom Properties'), (u'numberOfProperties', u'1'), (u'medianListingPrice', u'3495000'), (u'averageListingPrice', u'3495000')]), OrderedDict([(u'type', u'14 Bedroom Properties'), (u'numberOfProperties', u'1'), (u'medianListingPrice', u'19989000'), (u'averageListingPrice', u'19989000')])])]))]),\n",
       " OrderedDict([(u'weekEndingDate', u'2014-02-08'), (u'listingPrice', OrderedDict([(u'subcategory', [OrderedDict([(u'type', u'All Properties'), (u'numberOfProperties', u'422'), (u'medianListingPrice', u'898357'), (u'averageListingPrice', u'1646731')]), OrderedDict([(u'type', u'1 Bedroom Properties'), (u'numberOfProperties', u'79'), (u'medianListingPrice', u'663714'), (u'averageListingPrice', u'712593')]), OrderedDict([(u'type', u'2 Bedroom Properties'), (u'numberOfProperties', u'126'), (u'medianListingPrice', u'884000'), (u'averageListingPrice', u'961324')]), OrderedDict([(u'type', u'3 Bedroom Properties'), (u'numberOfProperties', u'104'), (u'medianListingPrice', u'1078714'), (u'averageListingPrice', u'1849700')]), OrderedDict([(u'type', u'4 Bedroom Properties'), (u'numberOfProperties', u'41'), (u'medianListingPrice', u'1411857'), (u'averageListingPrice', u'1803240')]), OrderedDict([(u'type', u'5 Bedroom Properties'), (u'numberOfProperties', u'18'), (u'medianListingPrice', u'1297786'), (u'averageListingPrice', u'2291125')]), OrderedDict([(u'type', u'6 Bedroom Properties'), (u'numberOfProperties', u'8'), (u'medianListingPrice', u'3169286'), (u'averageListingPrice', u'7474560')]), OrderedDict([(u'type', u'7 Bedroom Properties'), (u'numberOfProperties', u'4'), (u'medianListingPrice', u'7242571'), (u'averageListingPrice', u'11082686')]), OrderedDict([(u'type', u'8 Bedroom Properties'), (u'numberOfProperties', u'3'), (u'medianListingPrice', u'5253286'), (u'averageListingPrice', u'7250048')]), OrderedDict([(u'type', u'9 Bedroom Properties'), (u'numberOfProperties', u'1'), (u'medianListingPrice', u'10250000'), (u'averageListingPrice', u'10250000')]), OrderedDict([(u'type', u'10 Bedroom Properties'), (u'numberOfProperties', u'1'), (u'medianListingPrice', u'3495000'), (u'averageListingPrice', u'3495000')]), OrderedDict([(u'type', u'14 Bedroom Properties'), (u'numberOfProperties', u'1'), (u'medianListingPrice', u'19989000'), (u'averageListingPrice', u'19989000')])])]))]),\n",
       " OrderedDict([(u'weekEndingDate', u'2014-02-15'), (u'listingPrice', OrderedDict([(u'subcategory', [OrderedDict([(u'type', u'All Properties'), (u'numberOfProperties', u'448'), (u'medianListingPrice', u'899143'), (u'averageListingPrice', u'1550216')]), OrderedDict([(u'type', u'1 Bedroom Properties'), (u'numberOfProperties', u'82'), (u'medianListingPrice', u'651714'), (u'averageListingPrice', u'707217')]), OrderedDict([(u'type', u'2 Bedroom Properties'), (u'numberOfProperties', u'134'), (u'medianListingPrice', u'864286'), (u'averageListingPrice', u'946809')]), OrderedDict([(u'type', u'3 Bedroom Properties'), (u'numberOfProperties', u'109'), (u'medianListingPrice', u'1082500'), (u'averageListingPrice', u'1744448')]), OrderedDict([(u'type', u'4 Bedroom Properties'), (u'numberOfProperties', u'48'), (u'medianListingPrice', u'1381929'), (u'averageListingPrice', u'1874533')]), OrderedDict([(u'type', u'5 Bedroom Properties'), (u'numberOfProperties', u'20'), (u'medianListingPrice', u'1292071'), (u'averageListingPrice', u'1988452')]), OrderedDict([(u'type', u'6 Bedroom Properties'), (u'numberOfProperties', u'10'), (u'medianListingPrice', u'2679071'), (u'averageListingPrice', u'6892028')]), OrderedDict([(u'type', u'7 Bedroom Properties'), (u'numberOfProperties', u'4'), (u'medianListingPrice', u'2986000'), (u'averageListingPrice', u'10245357')]), OrderedDict([(u'type', u'8 Bedroom Properties'), (u'numberOfProperties', u'3'), (u'medianListingPrice', u'1826786'), (u'averageListingPrice', u'2980179')]), OrderedDict([(u'type', u'9 Bedroom Properties'), (u'numberOfProperties', u'1'), (u'medianListingPrice', u'10250000'), (u'averageListingPrice', u'10250000')]), OrderedDict([(u'type', u'10 Bedroom Properties'), (u'numberOfProperties', u'1'), (u'medianListingPrice', u'3495000'), (u'averageListingPrice', u'3495000')]), OrderedDict([(u'type', u'14 Bedroom Properties'), (u'numberOfProperties', u'1'), (u'medianListingPrice', u'19989000'), (u'averageListingPrice', u'19989000')])])]))]),\n",
       " OrderedDict([(u'weekEndingDate', u'2014-02-22'), (u'listingPrice', OrderedDict([(u'subcategory', [OrderedDict([(u'type', u'All Properties'), (u'numberOfProperties', u'446'), (u'medianListingPrice', u'899136'), (u'averageListingPrice', u'1472977')]), OrderedDict([(u'type', u'1 Bedroom Properties'), (u'numberOfProperties', u'73'), (u'medianListingPrice', u'659071'), (u'averageListingPrice', u'727924')]), OrderedDict([(u'type', u'2 Bedroom Properties'), (u'numberOfProperties', u'132'), (u'medianListingPrice', u'883571'), (u'averageListingPrice', u'965939')]), OrderedDict([(u'type', u'3 Bedroom Properties'), (u'numberOfProperties', u'119'), (u'medianListingPrice', u'1011439'), (u'averageListingPrice', u'1439396')]), OrderedDict([(u'type', u'4 Bedroom Properties'), (u'numberOfProperties', u'42'), (u'medianListingPrice', u'1257429'), (u'averageListingPrice', u'1746151')]), OrderedDict([(u'type', u'5 Bedroom Properties'), (u'numberOfProperties', u'21'), (u'medianListingPrice', u'1293071'), (u'averageListingPrice', u'1967206')]), OrderedDict([(u'type', u'6 Bedroom Properties'), (u'numberOfProperties', u'13'), (u'medianListingPrice', u'2375286'), (u'averageListingPrice', u'6035741')]), OrderedDict([(u'type', u'7 Bedroom Properties'), (u'numberOfProperties', u'3'), (u'medianListingPrice', u'890000'), (u'averageListingPrice', u'10583000')]), OrderedDict([(u'type', u'8 Bedroom Properties'), (u'numberOfProperties', u'3'), (u'medianListingPrice', u'888000'), (u'averageListingPrice', u'1162000')]), OrderedDict([(u'type', u'9 Bedroom Properties'), (u'numberOfProperties', u'1'), (u'medianListingPrice', u'10250000'), (u'averageListingPrice', u'10250000')]), OrderedDict([(u'type', u'10 Bedroom Properties'), (u'numberOfProperties', u'1'), (u'medianListingPrice', u'3495000'), (u'averageListingPrice', u'3495000')]), OrderedDict([(u'type', u'14 Bedroom Properties'), (u'numberOfProperties', u'1'), (u'medianListingPrice', u'19989000'), (u'averageListingPrice', u'19989000')])])]))]),\n",
       " OrderedDict([(u'weekEndingDate', u'2014-03-01'), (u'listingPrice', OrderedDict([(u'subcategory', [OrderedDict([(u'type', u'All Properties'), (u'numberOfProperties', u'445'), (u'medianListingPrice', u'943857'), (u'averageListingPrice', u'1521349')]), OrderedDict([(u'type', u'1 Bedroom Properties'), (u'numberOfProperties', u'72'), (u'medianListingPrice', u'686357'), (u'averageListingPrice', u'759985')]), OrderedDict([(u'type', u'2 Bedroom Properties'), (u'numberOfProperties', u'131'), (u'medianListingPrice', u'916476'), (u'averageListingPrice', u'1023663')]), OrderedDict([(u'type', u'3 Bedroom Properties'), (u'numberOfProperties', u'116'), (u'medianListingPrice', u'1024841'), (u'averageListingPrice', u'1454669')]), OrderedDict([(u'type', u'4 Bedroom Properties'), (u'numberOfProperties', u'45'), (u'medianListingPrice', u'1371571'), (u'averageListingPrice', u'1727016')]), OrderedDict([(u'type', u'5 Bedroom Properties'), (u'numberOfProperties', u'19'), (u'medianListingPrice', u'1342286'), (u'averageListingPrice', u'2163607')]), OrderedDict([(u'type', u'6 Bedroom Properties'), (u'numberOfProperties', u'15'), (u'medianListingPrice', u'2371786'), (u'averageListingPrice', u'5589848')]), OrderedDict([(u'type', u'7 Bedroom Properties'), (u'numberOfProperties', u'3'), (u'medianListingPrice', u'890000'), (u'averageListingPrice', u'10583000')]), OrderedDict([(u'type', u'8 Bedroom Properties'), (u'numberOfProperties', u'4'), (u'medianListingPrice', u'1176857'), (u'averageListingPrice', u'1906714')]), OrderedDict([(u'type', u'9 Bedroom Properties'), (u'numberOfProperties', u'2'), (u'medianListingPrice', u'7830000'), (u'averageListingPrice', u'7830000')]), OrderedDict([(u'type', u'10 Bedroom Properties'), (u'numberOfProperties', u'1'), (u'medianListingPrice', u'3495000'), (u'averageListingPrice', u'3495000')]), OrderedDict([(u'type', u'14 Bedroom Properties'), (u'numberOfProperties', u'1'), (u'medianListingPrice', u'19989000'), (u'averageListingPrice', u'19989000')])])]))]),\n",
       " OrderedDict([(u'weekEndingDate', u'2014-03-08'), (u'listingPrice', OrderedDict([(u'subcategory', [OrderedDict([(u'type', u'All Properties'), (u'numberOfProperties', u'463'), (u'medianListingPrice', u'974286'), (u'averageListingPrice', u'1495325')]), OrderedDict([(u'type', u'1 Bedroom Properties'), (u'numberOfProperties', u'77'), (u'medianListingPrice', u'704786'), (u'averageListingPrice', u'774375')]), OrderedDict([(u'type', u'2 Bedroom Properties'), (u'numberOfProperties', u'146'), (u'medianListingPrice', u'914921'), (u'averageListingPrice', u'1030846')]), OrderedDict([(u'type', u'3 Bedroom Properties'), (u'numberOfProperties', u'114'), (u'medianListingPrice', u'1160071'), (u'averageListingPrice', u'1503582')]), OrderedDict([(u'type', u'4 Bedroom Properties'), (u'numberOfProperties', u'48'), (u'medianListingPrice', u'1562000'), (u'averageListingPrice', u'1951158')]), OrderedDict([(u'type', u'5 Bedroom Properties'), (u'numberOfProperties', u'17'), (u'medianListingPrice', u'1405143'), (u'averageListingPrice', u'2268578')]), OrderedDict([(u'type', u'6 Bedroom Properties'), (u'numberOfProperties', u'13'), (u'medianListingPrice', u'1915143'), (u'averageListingPrice', u'3712926')]), OrderedDict([(u'type', u'7 Bedroom Properties'), (u'numberOfProperties', u'4'), (u'medianListingPrice', u'6638571'), (u'averageListingPrice', u'10682614')]), OrderedDict([(u'type', u'8 Bedroom Properties'), (u'numberOfProperties', u'3'), (u'medianListingPrice', u'1899000'), (u'averageListingPrice', u'3054000')]), OrderedDict([(u'type', u'9 Bedroom Properties'), (u'numberOfProperties', u'2'), (u'medianListingPrice', u'6015000'), (u'averageListingPrice', u'6015000')]), OrderedDict([(u'type', u'10 Bedroom Properties'), (u'numberOfProperties', u'1'), (u'medianListingPrice', u'3495000'), (u'averageListingPrice', u'3495000')]), OrderedDict([(u'type', u'14 Bedroom Properties'), (u'numberOfProperties', u'1'), (u'medianListingPrice', u'19989000'), (u'averageListingPrice', u'19989000')])])]))]),\n",
       " OrderedDict([(u'weekEndingDate', u'2014-03-15'), (u'listingPrice', OrderedDict([(u'subcategory', [OrderedDict([(u'type', u'All Properties'), (u'numberOfProperties', u'483'), (u'medianListingPrice', u'899317'), (u'averageListingPrice', u'1432156')]), OrderedDict([(u'type', u'1 Bedroom Properties'), (u'numberOfProperties', u'86'), (u'medianListingPrice', u'679500'), (u'averageListingPrice', u'747638')]), OrderedDict([(u'type', u'2 Bedroom Properties'), (u'numberOfProperties', u'153'), (u'medianListingPrice', u'869273'), (u'averageListingPrice', u'1025077')]), OrderedDict([(u'type', u'3 Bedroom Properties'), (u'numberOfProperties', u'115'), (u'medianListingPrice', u'1178500'), (u'averageListingPrice', u'1492084')]), OrderedDict([(u'type', u'4 Bedroom Properties'), (u'numberOfProperties', u'47'), (u'medianListingPrice', u'1486143'), (u'averageListingPrice', u'1869313')]), OrderedDict([(u'type', u'5 Bedroom Properties'), (u'numberOfProperties', u'19'), (u'medianListingPrice', u'1543429'), (u'averageListingPrice', u'1939730')]), OrderedDict([(u'type', u'6 Bedroom Properties'), (u'numberOfProperties', u'11'), (u'medianListingPrice', u'1795429'), (u'averageListingPrice', u'3676461')]), OrderedDict([(u'type', u'7 Bedroom Properties'), (u'numberOfProperties', u'4'), (u'medianListingPrice', u'5920000'), (u'averageListingPrice', u'10674750')]), OrderedDict([(u'type', u'8 Bedroom Properties'), (u'numberOfProperties', u'3'), (u'medianListingPrice', u'1899000'), (u'averageListingPrice', u'3054000')]), OrderedDict([(u'type', u'9 Bedroom Properties'), (u'numberOfProperties', u'2'), (u'medianListingPrice', u'6015000'), (u'averageListingPrice', u'6015000')]), OrderedDict([(u'type', u'10 Bedroom Properties'), (u'numberOfProperties', u'1'), (u'medianListingPrice', u'3495000'), (u'averageListingPrice', u'3495000')]), OrderedDict([(u'type', u'14 Bedroom Properties'), (u'numberOfProperties', u'1'), (u'medianListingPrice', u'19989000'), (u'averageListingPrice', u'19989000')])])]))]),\n",
       " OrderedDict([(u'weekEndingDate', u'2014-03-22'), (u'listingPrice', OrderedDict([(u'subcategory', [OrderedDict([(u'type', u'All Properties'), (u'numberOfProperties', u'484'), (u'medianListingPrice', u'921698'), (u'averageListingPrice', u'1455124')]), OrderedDict([(u'type', u'1 Bedroom Properties'), (u'numberOfProperties', u'91'), (u'medianListingPrice', u'679143'), (u'averageListingPrice', u'729761')]), OrderedDict([(u'type', u'2 Bedroom Properties'), (u'numberOfProperties', u'153'), (u'medianListingPrice', u'887714'), (u'averageListingPrice', u'1043850')]), OrderedDict([(u'type', u'3 Bedroom Properties'), (u'numberOfProperties', u'113'), (u'medianListingPrice', u'1230857'), (u'averageListingPrice', u'1497713')]), OrderedDict([(u'type', u'4 Bedroom Properties'), (u'numberOfProperties', u'42'), (u'medianListingPrice', u'1461571'), (u'averageListingPrice', u'1939858')]), OrderedDict([(u'type', u'5 Bedroom Properties'), (u'numberOfProperties', u'21'), (u'medianListingPrice', u'1598286'), (u'averageListingPrice', u'2111066')]), OrderedDict([(u'type', u'6 Bedroom Properties'), (u'numberOfProperties', u'11'), (u'medianListingPrice', u'1922571'), (u'averageListingPrice', u'3867108')]), OrderedDict([(u'type', u'7 Bedroom Properties'), (u'numberOfProperties', u'4'), (u'medianListingPrice', u'5359857'), (u'averageListingPrice', u'10426871')]), OrderedDict([(u'type', u'8 Bedroom Properties'), (u'numberOfProperties', u'2'), (u'medianListingPrice', u'4137000'), (u'averageListingPrice', u'4632000')]), OrderedDict([(u'type', u'9 Bedroom Properties'), (u'numberOfProperties', u'2'), (u'medianListingPrice', u'5635286'), (u'averageListingPrice', u'5888429')]), OrderedDict([(u'type', u'10 Bedroom Properties'), (u'numberOfProperties', u'1'), (u'medianListingPrice', u'3495000'), (u'averageListingPrice', u'3495000')]), OrderedDict([(u'type', u'14 Bedroom Properties'), (u'numberOfProperties', u'1'), (u'medianListingPrice', u'19989000'), (u'averageListingPrice', u'19989000')])])]))]),\n",
       " OrderedDict([(u'weekEndingDate', u'2014-03-29'), (u'listingPrice', OrderedDict([(u'subcategory', [OrderedDict([(u'type', u'All Properties'), (u'numberOfProperties', u'488'), (u'medianListingPrice', u'976286'), (u'averageListingPrice', u'1500728')]), OrderedDict([(u'type', u'1 Bedroom Properties'), (u'numberOfProperties', u'88'), (u'medianListingPrice', u'694571'), (u'averageListingPrice', u'730948')]), OrderedDict([(u'type', u'2 Bedroom Properties'), (u'numberOfProperties', u'154'), (u'medianListingPrice', u'899071'), (u'averageListingPrice', u'1071029')]), OrderedDict([(u'type', u'3 Bedroom Properties'), (u'numberOfProperties', u'120'), (u'medianListingPrice', u'1208714'), (u'averageListingPrice', u'1468588')]), OrderedDict([(u'type', u'4 Bedroom Properties'), (u'numberOfProperties', u'46'), (u'medianListingPrice', u'1522143'), (u'averageListingPrice', u'1998391')]), OrderedDict([(u'type', u'5 Bedroom Properties'), (u'numberOfProperties', u'20'), (u'medianListingPrice', u'1553500'), (u'averageListingPrice', u'2094754')]), OrderedDict([(u'type', u'6 Bedroom Properties'), (u'numberOfProperties', u'11'), (u'medianListingPrice', u'2910214'), (u'averageListingPrice', u'4463284')]), OrderedDict([(u'type', u'7 Bedroom Properties'), (u'numberOfProperties', u'6'), (u'medianListingPrice', u'1999000'), (u'averageListingPrice', u'8728204')]), OrderedDict([(u'type', u'8 Bedroom Properties'), (u'numberOfProperties', u'1'), (u'medianListingPrice', u'6375000'), (u'averageListingPrice', u'6375000')]), OrderedDict([(u'type', u'9 Bedroom Properties'), (u'numberOfProperties', u'3'), (u'medianListingPrice', u'3131714'), (u'averageListingPrice', u'4397429')]), OrderedDict([(u'type', u'10 Bedroom Properties'), (u'numberOfProperties', u'1'), (u'medianListingPrice', u'3495000'), (u'averageListingPrice', u'3495000')]), OrderedDict([(u'type', u'14 Bedroom Properties'), (u'numberOfProperties', u'1'), (u'medianListingPrice', u'19276857'), (u'averageListingPrice', u'19276857')])])]))]),\n",
       " OrderedDict([(u'weekEndingDate', u'2014-04-05'), (u'listingPrice', OrderedDict([(u'subcategory', [OrderedDict([(u'type', u'All Properties'), (u'numberOfProperties', u'483'), (u'medianListingPrice', u'925786'), (u'averageListingPrice', u'1505803')]), OrderedDict([(u'type', u'1 Bedroom Properties'), (u'numberOfProperties', u'88'), (u'medianListingPrice', u'728857'), (u'averageListingPrice', u'753323')]), OrderedDict([(u'type', u'2 Bedroom Properties'), (u'numberOfProperties', u'151'), (u'medianListingPrice', u'888916'), (u'averageListingPrice', u'1027102')]), OrderedDict([(u'type', u'3 Bedroom Properties'), (u'numberOfProperties', u'113'), (u'medianListingPrice', u'1223714'), (u'averageListingPrice', u'1492728')]), OrderedDict([(u'type', u'4 Bedroom Properties'), (u'numberOfProperties', u'54'), (u'medianListingPrice', u'1619571'), (u'averageListingPrice', u'2195955')]), OrderedDict([(u'type', u'5 Bedroom Properties'), (u'numberOfProperties', u'19'), (u'medianListingPrice', u'1328214'), (u'averageListingPrice', u'2020145')]), OrderedDict([(u'type', u'6 Bedroom Properties'), (u'numberOfProperties', u'10'), (u'medianListingPrice', u'2779143'), (u'averageListingPrice', u'4321068')]), OrderedDict([(u'type', u'7 Bedroom Properties'), (u'numberOfProperties', u'6'), (u'medianListingPrice', u'1856714'), (u'averageListingPrice', u'7619061')]), OrderedDict([(u'type', u'8 Bedroom Properties'), (u'numberOfProperties', u'1'), (u'medianListingPrice', u'6375000'), (u'averageListingPrice', u'6375000')]), OrderedDict([(u'type', u'9 Bedroom Properties'), (u'numberOfProperties', u'2'), (u'medianListingPrice', u'6803500'), (u'averageListingPrice', u'6803500')]), OrderedDict([(u'type', u'10 Bedroom Properties'), (u'numberOfProperties', u'1'), (u'medianListingPrice', u'3495000'), (u'averageListingPrice', u'3495000')]), OrderedDict([(u'type', u'14 Bedroom Properties'), (u'numberOfProperties', u'1'), (u'medianListingPrice', u'17995000'), (u'averageListingPrice', u'17995000')])])]))]),\n",
       " OrderedDict([(u'weekEndingDate', u'2014-04-12'), (u'listingPrice', OrderedDict([(u'subcategory', [OrderedDict([(u'type', u'All Properties'), (u'numberOfProperties', u'472'), (u'medianListingPrice', u'903357'), (u'averageListingPrice', u'1487819')]), OrderedDict([(u'type', u'1 Bedroom Properties'), (u'numberOfProperties', u'87'), (u'medianListingPrice', u'734000'), (u'averageListingPrice', u'744032')]), OrderedDict([(u'type', u'2 Bedroom Properties'), (u'numberOfProperties', u'148'), (u'medianListingPrice', u'857728'), (u'averageListingPrice', u'1031262')]), OrderedDict([(u'type', u'3 Bedroom Properties'), (u'numberOfProperties', u'113'), (u'medianListingPrice', u'1245214'), (u'averageListingPrice', u'1446215')]), OrderedDict([(u'type', u'4 Bedroom Properties'), (u'numberOfProperties', u'51'), (u'medianListingPrice', u'1590571'), (u'averageListingPrice', u'2115872')]), OrderedDict([(u'type', u'5 Bedroom Properties'), (u'numberOfProperties', u'18'), (u'medianListingPrice', u'1511643'), (u'averageListingPrice', u'2152030')]), OrderedDict([(u'type', u'6 Bedroom Properties'), (u'numberOfProperties', u'8'), (u'medianListingPrice', u'2608571'), (u'averageListingPrice', u'4118661')]), OrderedDict([(u'type', u'7 Bedroom Properties'), (u'numberOfProperties', u'6'), (u'medianListingPrice', u'1898643'), (u'averageListingPrice', u'7505320')]), OrderedDict([(u'type', u'8 Bedroom Properties'), (u'numberOfProperties', u'1'), (u'medianListingPrice', u'6375000'), (u'averageListingPrice', u'6375000')]), OrderedDict([(u'type', u'9 Bedroom Properties'), (u'numberOfProperties', u'2'), (u'medianListingPrice', u'6803500'), (u'averageListingPrice', u'6803500')]), OrderedDict([(u'type', u'10 Bedroom Properties'), (u'numberOfProperties', u'1'), (u'medianListingPrice', u'3495000'), (u'averageListingPrice', u'3495000')]), OrderedDict([(u'type', u'14 Bedroom Properties'), (u'numberOfProperties', u'1'), (u'medianListingPrice', u'17995000'), (u'averageListingPrice', u'17995000')])])]))]),\n",
       " OrderedDict([(u'weekEndingDate', u'2014-04-19'), (u'listingPrice', OrderedDict([(u'subcategory', [OrderedDict([(u'type', u'All Properties'), (u'numberOfProperties', u'488'), (u'medianListingPrice', u'918143'), (u'averageListingPrice', u'1526920')]), OrderedDict([(u'type', u'1 Bedroom Properties'), (u'numberOfProperties', u'88'), (u'medianListingPrice', u'700143'), (u'averageListingPrice', u'752154')]), OrderedDict([(u'type', u'2 Bedroom Properties'), (u'numberOfProperties', u'151'), (u'medianListingPrice', u'849333'), (u'averageListingPrice', u'1058670')]), OrderedDict([(u'type', u'3 Bedroom Properties'), (u'numberOfProperties', u'120'), (u'medianListingPrice', u'1193286'), (u'averageListingPrice', u'1447546')]), OrderedDict([(u'type', u'4 Bedroom Properties'), (u'numberOfProperties', u'49'), (u'medianListingPrice', u'1601214'), (u'averageListingPrice', u'2171788')]), OrderedDict([(u'type', u'5 Bedroom Properties'), (u'numberOfProperties', u'20'), (u'medianListingPrice', u'1651786'), (u'averageListingPrice', u'2263504')]), OrderedDict([(u'type', u'6 Bedroom Properties'), (u'numberOfProperties', u'10'), (u'medianListingPrice', u'2585000'), (u'averageListingPrice', u'4373040')]), OrderedDict([(u'type', u'7 Bedroom Properties'), (u'numberOfProperties', u'7'), (u'medianListingPrice', u'1944071'), (u'averageListingPrice', u'7032340')]), OrderedDict([(u'type', u'8 Bedroom Properties'), (u'numberOfProperties', u'1'), (u'medianListingPrice', u'6375000'), (u'averageListingPrice', u'6375000')]), OrderedDict([(u'type', u'9 Bedroom Properties'), (u'numberOfProperties', u'2'), (u'medianListingPrice', u'6803500'), (u'averageListingPrice', u'6803500')]), OrderedDict([(u'type', u'10 Bedroom Properties'), (u'numberOfProperties', u'1'), (u'medianListingPrice', u'3495000'), (u'averageListingPrice', u'3495000')]), OrderedDict([(u'type', u'14 Bedroom Properties'), (u'numberOfProperties', u'1'), (u'medianListingPrice', u'17995000'), (u'averageListingPrice', u'17995000')])])]))]),\n",
       " OrderedDict([(u'weekEndingDate', u'2014-04-26'), (u'listingPrice', OrderedDict([(u'subcategory', [OrderedDict([(u'type', u'All Properties'), (u'numberOfProperties', u'515'), (u'medianListingPrice', u'940429'), (u'averageListingPrice', u'1515920')]), OrderedDict([(u'type', u'1 Bedroom Properties'), (u'numberOfProperties', u'88'), (u'medianListingPrice', u'719714'), (u'averageListingPrice', u'775357')]), OrderedDict([(u'type', u'2 Bedroom Properties'), (u'numberOfProperties', u'160'), (u'medianListingPrice', u'879000'), (u'averageListingPrice', u'1080424')]), OrderedDict([(u'type', u'3 Bedroom Properties'), (u'numberOfProperties', u'132'), (u'medianListingPrice', u'1150857'), (u'averageListingPrice', u'1510497')]), OrderedDict([(u'type', u'4 Bedroom Properties'), (u'numberOfProperties', u'53'), (u'medianListingPrice', u'1630286'), (u'averageListingPrice', u'2114457')]), OrderedDict([(u'type', u'5 Bedroom Properties'), (u'numberOfProperties', u'25'), (u'medianListingPrice', u'1747500'), (u'averageListingPrice', u'2428537')]), OrderedDict([(u'type', u'6 Bedroom Properties'), (u'numberOfProperties', u'10'), (u'medianListingPrice', u'1943214'), (u'averageListingPrice', u'3898809')]), OrderedDict([(u'type', u'7 Bedroom Properties'), (u'numberOfProperties', u'6'), (u'medianListingPrice', u'1884357'), (u'averageListingPrice', u'4436810')]), OrderedDict([(u'type', u'8 Bedroom Properties'), (u'numberOfProperties', u'1'), (u'medianListingPrice', u'6375000'), (u'averageListingPrice', u'6375000')]), OrderedDict([(u'type', u'9 Bedroom Properties'), (u'numberOfProperties', u'1'), (u'medianListingPrice', u'8772929'), (u'averageListingPrice', u'8772929')]), OrderedDict([(u'type', u'10 Bedroom Properties'), (u'numberOfProperties', u'1'), (u'medianListingPrice', u'3495000'), (u'averageListingPrice', u'3495000')]), OrderedDict([(u'type', u'14 Bedroom Properties'), (u'numberOfProperties', u'1'), (u'medianListingPrice', u'17995000'), (u'averageListingPrice', u'17995000')])])]))]),\n",
       " OrderedDict([(u'weekEndingDate', u'2014-05-03'), (u'listingPrice', OrderedDict([(u'subcategory', [OrderedDict([(u'type', u'All Properties'), (u'numberOfProperties', u'541'), (u'medianListingPrice', u'955857'), (u'averageListingPrice', u'1471201')]), OrderedDict([(u'type', u'1 Bedroom Properties'), (u'numberOfProperties', u'96'), (u'medianListingPrice', u'733571'), (u'averageListingPrice', u'797612')]), OrderedDict([(u'type', u'2 Bedroom Properties'), (u'numberOfProperties', u'180'), (u'medianListingPrice', u'902429'), (u'averageListingPrice', u'1119507')]), OrderedDict([(u'type', u'3 Bedroom Properties'), (u'numberOfProperties', u'134'), (u'medianListingPrice', u'1113857'), (u'averageListingPrice', u'1524865')]), OrderedDict([(u'type', u'4 Bedroom Properties'), (u'numberOfProperties', u'56'), (u'medianListingPrice', u'1665929'), (u'averageListingPrice', u'2188706')]), OrderedDict([(u'type', u'5 Bedroom Properties'), (u'numberOfProperties', u'26'), (u'medianListingPrice', u'1855429'), (u'averageListingPrice', u'2653244')]), OrderedDict([(u'type', u'6 Bedroom Properties'), (u'numberOfProperties', u'9'), (u'medianListingPrice', u'1695357'), (u'averageListingPrice', u'3542448')]), OrderedDict([(u'type', u'7 Bedroom Properties'), (u'numberOfProperties', u'6'), (u'medianListingPrice', u'1869429'), (u'averageListingPrice', u'3190347')]), OrderedDict([(u'type', u'8 Bedroom Properties'), (u'numberOfProperties', u'1'), (u'medianListingPrice', u'6375000'), (u'averageListingPrice', u'6375000')]), OrderedDict([(u'type', u'9 Bedroom Properties'), (u'numberOfProperties', u'1'), (u'medianListingPrice', u'10250000'), (u'averageListingPrice', u'10250000')]), OrderedDict([(u'type', u'10 Bedroom Properties'), (u'numberOfProperties', u'1'), (u'medianListingPrice', u'3495000'), (u'averageListingPrice', u'3495000')]), OrderedDict([(u'type', u'12 Bedroom Properties'), (u'numberOfProperties', u'2'), (u'medianListingPrice', u'3495000'), (u'averageListingPrice', u'3495000')]), OrderedDict([(u'type', u'14 Bedroom Properties'), (u'numberOfProperties', u'1'), (u'medianListingPrice', u'17995000'), (u'averageListingPrice', u'17995000')])])]))]),\n",
       " OrderedDict([(u'weekEndingDate', u'2014-05-10'), (u'listingPrice', OrderedDict([(u'subcategory', [OrderedDict([(u'type', u'All Properties'), (u'numberOfProperties', u'535'), (u'medianListingPrice', u'992643'), (u'averageListingPrice', u'1469582')]), OrderedDict([(u'type', u'1 Bedroom Properties'), (u'numberOfProperties', u'92'), (u'medianListingPrice', u'746929'), (u'averageListingPrice', u'812687')]), OrderedDict([(u'type', u'2 Bedroom Properties'), (u'numberOfProperties', u'170'), (u'medianListingPrice', u'954714'), (u'averageListingPrice', u'1146995')]), OrderedDict([(u'type', u'3 Bedroom Properties'), (u'numberOfProperties', u'148'), (u'medianListingPrice', u'1167857'), (u'averageListingPrice', u'1509458')]), OrderedDict([(u'type', u'4 Bedroom Properties'), (u'numberOfProperties', u'55'), (u'medianListingPrice', u'1648214'), (u'averageListingPrice', u'2034612')]), OrderedDict([(u'type', u'5 Bedroom Properties'), (u'numberOfProperties', u'27'), (u'medianListingPrice', u'1749357'), (u'averageListingPrice', u'2573435')]), OrderedDict([(u'type', u'6 Bedroom Properties'), (u'numberOfProperties', u'10'), (u'medianListingPrice', u'1680000'), (u'averageListingPrice', u'2707200')]), OrderedDict([(u'type', u'7 Bedroom Properties'), (u'numberOfProperties', u'6'), (u'medianListingPrice', u'1899286'), (u'averageListingPrice', u'3444796')]), OrderedDict([(u'type', u'8 Bedroom Properties'), (u'numberOfProperties', u'1'), (u'medianListingPrice', u'6375000'), (u'averageListingPrice', u'6375000')]), OrderedDict([(u'type', u'9 Bedroom Properties'), (u'numberOfProperties', u'1'), (u'medianListingPrice', u'10250000'), (u'averageListingPrice', u'10250000')]), OrderedDict([(u'type', u'10 Bedroom Properties'), (u'numberOfProperties', u'1'), (u'medianListingPrice', u'3495000'), (u'averageListingPrice', u'3495000')]), OrderedDict([(u'type', u'12 Bedroom Properties'), (u'numberOfProperties', u'1'), (u'medianListingPrice', u'3495000'), (u'averageListingPrice', u'3495000')]), OrderedDict([(u'type', u'14 Bedroom Properties'), (u'numberOfProperties', u'1'), (u'medianListingPrice', u'17995000'), (u'averageListingPrice', u'17995000')])])]))]),\n",
       " OrderedDict([(u'weekEndingDate', u'2014-05-17'), (u'listingPrice', OrderedDict([(u'subcategory', [OrderedDict([(u'type', u'All Properties'), (u'numberOfProperties', u'545'), (u'medianListingPrice', u'991571'), (u'averageListingPrice', u'1484351')]), OrderedDict([(u'type', u'1 Bedroom Properties'), (u'numberOfProperties', u'93'), (u'medianListingPrice', u'759286'), (u'averageListingPrice', u'803941')]), OrderedDict([(u'type', u'2 Bedroom Properties'), (u'numberOfProperties', u'177'), (u'medianListingPrice', u'943857'), (u'averageListingPrice', u'1106628')]), OrderedDict([(u'type', u'3 Bedroom Properties'), (u'numberOfProperties', u'150'), (u'medianListingPrice', u'1193000'), (u'averageListingPrice', u'1549059')]), OrderedDict([(u'type', u'4 Bedroom Properties'), (u'numberOfProperties', u'54'), (u'medianListingPrice', u'1616357'), (u'averageListingPrice', u'2171936')]), OrderedDict([(u'type', u'5 Bedroom Properties'), (u'numberOfProperties', u'26'), (u'medianListingPrice', u'2383071'), (u'averageListingPrice', u'2822695')]), OrderedDict([(u'type', u'6 Bedroom Properties'), (u'numberOfProperties', u'10'), (u'medianListingPrice', u'1695357'), (u'averageListingPrice', u'2852950')]), OrderedDict([(u'type', u'7 Bedroom Properties'), (u'numberOfProperties', u'7'), (u'medianListingPrice', u'1894214'), (u'averageListingPrice', u'3254521')]), OrderedDict([(u'type', u'8 Bedroom Properties'), (u'numberOfProperties', u'1'), (u'medianListingPrice', u'6375000'), (u'averageListingPrice', u'6375000')]), OrderedDict([(u'type', u'9 Bedroom Properties'), (u'numberOfProperties', u'1'), (u'medianListingPrice', u'10250000'), (u'averageListingPrice', u'10250000')]), OrderedDict([(u'type', u'10 Bedroom Properties'), (u'numberOfProperties', u'1'), (u'medianListingPrice', u'3495000'), (u'averageListingPrice', u'3495000')]), OrderedDict([(u'type', u'12 Bedroom Properties'), (u'numberOfProperties', u'1'), (u'medianListingPrice', u'3495000'), (u'averageListingPrice', u'3495000')]), OrderedDict([(u'type', u'14 Bedroom Properties'), (u'numberOfProperties', u'1'), (u'medianListingPrice', u'17995000'), (u'averageListingPrice', u'17995000')])])]))]),\n",
       " OrderedDict([(u'weekEndingDate', u'2014-05-24'), (u'listingPrice', OrderedDict([(u'subcategory', [OrderedDict([(u'type', u'All Properties'), (u'numberOfProperties', u'542'), (u'medianListingPrice', u'987857'), (u'averageListingPrice', u'1519047')]), OrderedDict([(u'type', u'1 Bedroom Properties'), (u'numberOfProperties', u'103'), (u'medianListingPrice', u'766143'), (u'averageListingPrice', u'819921')]), OrderedDict([(u'type', u'2 Bedroom Properties'), (u'numberOfProperties', u'179'), (u'medianListingPrice', u'938357'), (u'averageListingPrice', u'1113608')]), OrderedDict([(u'type', u'3 Bedroom Properties'), (u'numberOfProperties', u'137'), (u'medianListingPrice', u'1238000'), (u'averageListingPrice', u'1597139')]), OrderedDict([(u'type', u'4 Bedroom Properties'), (u'numberOfProperties', u'54'), (u'medianListingPrice', u'1660071'), (u'averageListingPrice', u'2500352')]), OrderedDict([(u'type', u'5 Bedroom Properties'), (u'numberOfProperties', u'26'), (u'medianListingPrice', u'2206643'), (u'averageListingPrice', u'2777141')]), OrderedDict([(u'type', u'6 Bedroom Properties'), (u'numberOfProperties', u'8'), (u'medianListingPrice', u'1639286'), (u'averageListingPrice', u'2374716')]), OrderedDict([(u'type', u'7 Bedroom Properties'), (u'numberOfProperties', u'6'), (u'medianListingPrice', u'1799000'), (u'averageListingPrice', u'2989240')]), OrderedDict([(u'type', u'8 Bedroom Properties'), (u'numberOfProperties', u'1'), (u'medianListingPrice', u'5699714'), (u'averageListingPrice', u'5699714')]), OrderedDict([(u'type', u'9 Bedroom Properties'), (u'numberOfProperties', u'1'), (u'medianListingPrice', u'10250000'), (u'averageListingPrice', u'10250000')]), OrderedDict([(u'type', u'10 Bedroom Properties'), (u'numberOfProperties', u'1'), (u'medianListingPrice', u'3495000'), (u'averageListingPrice', u'3495000')]), OrderedDict([(u'type', u'12 Bedroom Properties'), (u'numberOfProperties', u'1'), (u'medianListingPrice', u'3495000'), (u'averageListingPrice', u'3495000')]), OrderedDict([(u'type', u'14 Bedroom Properties'), (u'numberOfProperties', u'1'), (u'medianListingPrice', u'17995000'), (u'averageListingPrice', u'17995000')])])]))]),\n",
       " OrderedDict([(u'weekEndingDate', u'2014-05-31'), (u'listingPrice', OrderedDict([(u'subcategory', [OrderedDict([(u'type', u'All Properties'), (u'numberOfProperties', u'534'), (u'medianListingPrice', u'981543'), (u'averageListingPrice', u'1524510')]), OrderedDict([(u'type', u'1 Bedroom Properties'), (u'numberOfProperties', u'111'), (u'medianListingPrice', u'737714'), (u'averageListingPrice', u'806786')]), OrderedDict([(u'type', u'2 Bedroom Properties'), (u'numberOfProperties', u'164'), (u'medianListingPrice', u'910786'), (u'averageListingPrice', u'1108031')]), OrderedDict([(u'type', u'3 Bedroom Properties'), (u'numberOfProperties', u'139'), (u'medianListingPrice', u'1237857'), (u'averageListingPrice', u'1625867')]), OrderedDict([(u'type', u'4 Bedroom Properties'), (u'numberOfProperties', u'52'), (u'medianListingPrice', u'1619929'), (u'averageListingPrice', u'2436932')]), OrderedDict([(u'type', u'5 Bedroom Properties'), (u'numberOfProperties', u'27'), (u'medianListingPrice', u'1636857'), (u'averageListingPrice', u'2704143')]), OrderedDict([(u'type', u'6 Bedroom Properties'), (u'numberOfProperties', u'8'), (u'medianListingPrice', u'2566429'), (u'averageListingPrice', u'3030235')]), OrderedDict([(u'type', u'7 Bedroom Properties'), (u'numberOfProperties', u'5'), (u'medianListingPrice', u'1553500'), (u'averageListingPrice', u'2569393')]), OrderedDict([(u'type', u'8 Bedroom Properties'), (u'numberOfProperties', u'2'), (u'medianListingPrice', u'4011500'), (u'averageListingPrice', u'4011500')]), OrderedDict([(u'type', u'9 Bedroom Properties'), (u'numberOfProperties', u'1'), (u'medianListingPrice', u'10250000'), (u'averageListingPrice', u'10250000')]), OrderedDict([(u'type', u'10 Bedroom Properties'), (u'numberOfProperties', u'1'), (u'medianListingPrice', u'3495000'), (u'averageListingPrice', u'3495000')]), OrderedDict([(u'type', u'14 Bedroom Properties'), (u'numberOfProperties', u'1'), (u'medianListingPrice', u'17995000'), (u'averageListingPrice', u'17995000')])])]))]),\n",
       " OrderedDict([(u'weekEndingDate', u'2014-06-07'), (u'listingPrice', OrderedDict([(u'subcategory', [OrderedDict([(u'type', u'All Properties'), (u'numberOfProperties', u'574'), (u'medianListingPrice', u'973000'), (u'averageListingPrice', u'1518695')]), OrderedDict([(u'type', u'1 Bedroom Properties'), (u'numberOfProperties', u'117'), (u'medianListingPrice', u'718393'), (u'averageListingPrice', u'790731')]), OrderedDict([(u'type', u'2 Bedroom Properties'), (u'numberOfProperties', u'186'), (u'medianListingPrice', u'916500'), (u'averageListingPrice', u'1075693')]), OrderedDict([(u'type', u'3 Bedroom Properties'), (u'numberOfProperties', u'146'), (u'medianListingPrice', u'1288000'), (u'averageListingPrice', u'1691953')]), OrderedDict([(u'type', u'4 Bedroom Properties'), (u'numberOfProperties', u'57'), (u'medianListingPrice', u'1561286'), (u'averageListingPrice', u'2266597')]), OrderedDict([(u'type', u'5 Bedroom Properties'), (u'numberOfProperties', u'30'), (u'medianListingPrice', u'1526143'), (u'averageListingPrice', u'2602668')]), OrderedDict([(u'type', u'6 Bedroom Properties'), (u'numberOfProperties', u'9'), (u'medianListingPrice', u'3966786'), (u'averageListingPrice', u'4356657')]), OrderedDict([(u'type', u'7 Bedroom Properties'), (u'numberOfProperties', u'4'), (u'medianListingPrice', u'1195000'), (u'averageListingPrice', u'1302000')]), OrderedDict([(u'type', u'8 Bedroom Properties'), (u'numberOfProperties', u'3'), (u'medianListingPrice', u'5800000'), (u'averageListingPrice', u'4607667')]), OrderedDict([(u'type', u'9 Bedroom Properties'), (u'numberOfProperties', u'1'), (u'medianListingPrice', u'9724643'), (u'averageListingPrice', u'9724643')]), OrderedDict([(u'type', u'10 Bedroom Properties'), (u'numberOfProperties', u'1'), (u'medianListingPrice', u'3495000'), (u'averageListingPrice', u'3495000')]), OrderedDict([(u'type', u'14 Bedroom Properties'), (u'numberOfProperties', u'1'), (u'medianListingPrice', u'17995000'), (u'averageListingPrice', u'17995000')])])]))]),\n",
       " OrderedDict([(u'weekEndingDate', u'2014-06-14'), (u'listingPrice', OrderedDict([(u'subcategory', [OrderedDict([(u'type', u'All Properties'), (u'numberOfProperties', u'607'), (u'medianListingPrice', u'949875'), (u'averageListingPrice', u'1495665')]), OrderedDict([(u'type', u'1 Bedroom Properties'), (u'numberOfProperties', u'118'), (u'medianListingPrice', u'699107'), (u'averageListingPrice', u'769962')]), OrderedDict([(u'type', u'2 Bedroom Properties'), (u'numberOfProperties', u'211'), (u'medianListingPrice', u'912764'), (u'averageListingPrice', u'1044358')]), OrderedDict([(u'type', u'3 Bedroom Properties'), (u'numberOfProperties', u'153'), (u'medianListingPrice', u'1277286'), (u'averageListingPrice', u'1687885')]), OrderedDict([(u'type', u'4 Bedroom Properties'), (u'numberOfProperties', u'59'), (u'medianListingPrice', u'1576129'), (u'averageListingPrice', u'2405287')]), OrderedDict([(u'type', u'5 Bedroom Properties'), (u'numberOfProperties', u'29'), (u'medianListingPrice', u'1943214'), (u'averageListingPrice', u'2818118')]), OrderedDict([(u'type', u'6 Bedroom Properties'), (u'numberOfProperties', u'7'), (u'medianListingPrice', u'4668571'), (u'averageListingPrice', u'5169368')]), OrderedDict([(u'type', u'7 Bedroom Properties'), (u'numberOfProperties', u'5'), (u'medianListingPrice', u'1434857'), (u'averageListingPrice', u'1432591')]), OrderedDict([(u'type', u'8 Bedroom Properties'), (u'numberOfProperties', u'3'), (u'medianListingPrice', u'5435714'), (u'averageListingPrice', u'4510691')]), OrderedDict([(u'type', u'9 Bedroom Properties'), (u'numberOfProperties', u'3'), (u'medianListingPrice', u'4579643'), (u'averageListingPrice', u'5908214')]), OrderedDict([(u'type', u'10 Bedroom Properties'), (u'numberOfProperties', u'1'), (u'medianListingPrice', u'3495000'), (u'averageListingPrice', u'3495000')]), OrderedDict([(u'type', u'14 Bedroom Properties'), (u'numberOfProperties', u'1'), (u'medianListingPrice', u'17995000'), (u'averageListingPrice', u'17995000')])])]))]),\n",
       " OrderedDict([(u'weekEndingDate', u'2014-06-21'), (u'listingPrice', OrderedDict([(u'subcategory', [OrderedDict([(u'type', u'All Properties'), (u'numberOfProperties', u'586'), (u'medianListingPrice', u'946881'), (u'averageListingPrice', u'1535919')]), OrderedDict([(u'type', u'1 Bedroom Properties'), (u'numberOfProperties', u'111'), (u'medianListingPrice', u'713857'), (u'averageListingPrice', u'779364')]), OrderedDict([(u'type', u'2 Bedroom Properties'), (u'numberOfProperties', u'196'), (u'medianListingPrice', u'907550'), (u'averageListingPrice', u'1059654')]), OrderedDict([(u'type', u'3 Bedroom Properties'), (u'numberOfProperties', u'157'), (u'medianListingPrice', u'1219786'), (u'averageListingPrice', u'1660165')]), OrderedDict([(u'type', u'4 Bedroom Properties'), (u'numberOfProperties', u'54'), (u'medianListingPrice', u'1632571'), (u'averageListingPrice', u'2700426')]), OrderedDict([(u'type', u'5 Bedroom Properties'), (u'numberOfProperties', u'28'), (u'medianListingPrice', u'1842000'), (u'averageListingPrice', u'2927225')]), OrderedDict([(u'type', u'6 Bedroom Properties'), (u'numberOfProperties', u'6'), (u'medianListingPrice', u'3781429'), (u'averageListingPrice', u'4855898')]), OrderedDict([(u'type', u'7 Bedroom Properties'), (u'numberOfProperties', u'4'), (u'medianListingPrice', u'1707929'), (u'averageListingPrice', u'1684367')]), OrderedDict([(u'type', u'8 Bedroom Properties'), (u'numberOfProperties', u'4'), (u'medianListingPrice', u'4160714'), (u'averageListingPrice', u'4080807')]), OrderedDict([(u'type', u'9 Bedroom Properties'), (u'numberOfProperties', u'3'), (u'medianListingPrice', u'4225000'), (u'averageListingPrice', u'5773452')]), OrderedDict([(u'type', u'10 Bedroom Properties'), (u'numberOfProperties', u'1'), (u'medianListingPrice', u'3495000'), (u'averageListingPrice', u'3495000')]), OrderedDict([(u'type', u'14 Bedroom Properties'), (u'numberOfProperties', u'1'), (u'medianListingPrice', u'17995000'), (u'averageListingPrice', u'17995000')])])]))]),\n",
       " OrderedDict([(u'weekEndingDate', u'2014-06-28'), (u'listingPrice', OrderedDict([(u'subcategory', [OrderedDict([(u'type', u'All Properties'), (u'numberOfProperties', u'599'), (u'medianListingPrice', u'939286'), (u'averageListingPrice', u'1491181')]), OrderedDict([(u'type', u'1 Bedroom Properties'), (u'numberOfProperties', u'116'), (u'medianListingPrice', u'700321'), (u'averageListingPrice', u'775344')]), OrderedDict([(u'type', u'2 Bedroom Properties'), (u'numberOfProperties', u'190'), (u'medianListingPrice', u'912286'), (u'averageListingPrice', u'1080400')]), OrderedDict([(u'type', u'3 Bedroom Properties'), (u'numberOfProperties', u'171'), (u'medianListingPrice', u'1167929'), (u'averageListingPrice', u'1665217')]), OrderedDict([(u'type', u'4 Bedroom Properties'), (u'numberOfProperties', u'56'), (u'medianListingPrice', u'1567143'), (u'averageListingPrice', u'2481845')]), OrderedDict([(u'type', u'5 Bedroom Properties'), (u'numberOfProperties', u'27'), (u'medianListingPrice', u'1632143'), (u'averageListingPrice', u'2692464')]), OrderedDict([(u'type', u'6 Bedroom Properties'), (u'numberOfProperties', u'5'), (u'medianListingPrice', u'3595000'), (u'averageListingPrice', u'4168800')]), OrderedDict([(u'type', u'7 Bedroom Properties'), (u'numberOfProperties', u'3'), (u'medianListingPrice', u'1959000'), (u'averageListingPrice', u'1816000')]), OrderedDict([(u'type', u'8 Bedroom Properties'), (u'numberOfProperties', u'5'), (u'medianListingPrice', u'3737500'), (u'averageListingPrice', u'3831100')]), OrderedDict([(u'type', u'9 Bedroom Properties'), (u'numberOfProperties', u'3'), (u'medianListingPrice', u'3275000'), (u'averageListingPrice', u'5290000')]), OrderedDict([(u'type', u'10 Bedroom Properties'), (u'numberOfProperties', u'1'), (u'medianListingPrice', u'3495000'), (u'averageListingPrice', u'3495000')]), OrderedDict([(u'type', u'14 Bedroom Properties'), (u'numberOfProperties', u'1'), (u'medianListingPrice', u'17995000'), (u'averageListingPrice', u'17995000')])])]))]),\n",
       " OrderedDict([(u'weekEndingDate', u'2014-07-05'), (u'listingPrice', OrderedDict([(u'subcategory', [OrderedDict([(u'type', u'All Properties'), (u'numberOfProperties', u'543'), (u'medianListingPrice', u'917452'), (u'averageListingPrice', u'1516727')]), OrderedDict([(u'type', u'1 Bedroom Properties'), (u'numberOfProperties', u'103'), (u'medianListingPrice', u'697000'), (u'averageListingPrice', u'760901')]), OrderedDict([(u'type', u'2 Bedroom Properties'), (u'numberOfProperties', u'159'), (u'medianListingPrice', u'899000'), (u'averageListingPrice', u'1030019')]), OrderedDict([(u'type', u'3 Bedroom Properties'), (u'numberOfProperties', u'154'), (u'medianListingPrice', u'1198857'), (u'averageListingPrice', u'1689714')]), OrderedDict([(u'type', u'4 Bedroom Properties'), (u'numberOfProperties', u'60'), (u'medianListingPrice', u'1567071'), (u'averageListingPrice', u'2461376')]), OrderedDict([(u'type', u'5 Bedroom Properties'), (u'numberOfProperties', u'31'), (u'medianListingPrice', u'1575714'), (u'averageListingPrice', u'2476060')]), OrderedDict([(u'type', u'6 Bedroom Properties'), (u'numberOfProperties', u'7'), (u'medianListingPrice', u'2651071'), (u'averageListingPrice', u'3938194')]), OrderedDict([(u'type', u'7 Bedroom Properties'), (u'numberOfProperties', u'3'), (u'medianListingPrice', u'1959000'), (u'averageListingPrice', u'1816000')]), OrderedDict([(u'type', u'8 Bedroom Properties'), (u'numberOfProperties', u'4'), (u'medianListingPrice', u'4791071'), (u'averageListingPrice', u'4135405')]), OrderedDict([(u'type', u'9 Bedroom Properties'), (u'numberOfProperties', u'1'), (u'medianListingPrice', u'8268929'), (u'averageListingPrice', u'8268929')]), OrderedDict([(u'type', u'10 Bedroom Properties'), (u'numberOfProperties', u'1'), (u'medianListingPrice', u'3495000'), (u'averageListingPrice', u'3495000')]), OrderedDict([(u'type', u'14 Bedroom Properties'), (u'numberOfProperties', u'1'), (u'medianListingPrice', u'17995000'), (u'averageListingPrice', u'17995000')])])]))]),\n",
       " OrderedDict([(u'weekEndingDate', u'2014-07-12'), (u'listingPrice', OrderedDict([(u'subcategory', [OrderedDict([(u'type', u'All Properties'), (u'numberOfProperties', u'547'), (u'medianListingPrice', u'915690'), (u'averageListingPrice', u'1482895')]), OrderedDict([(u'type', u'1 Bedroom Properties'), (u'numberOfProperties', u'104'), (u'medianListingPrice', u'694786'), (u'averageListingPrice', u'735715')]), OrderedDict([(u'type', u'2 Bedroom Properties'), (u'numberOfProperties', u'168'), (u'medianListingPrice', u'909286'), (u'averageListingPrice', u'1048347')]), OrderedDict([(u'type', u'3 Bedroom Properties'), (u'numberOfProperties', u'149'), (u'medianListingPrice', u'1177714'), (u'averageListingPrice', u'1692210')]), OrderedDict([(u'type', u'4 Bedroom Properties'), (u'numberOfProperties', u'56'), (u'medianListingPrice', u'1567500'), (u'averageListingPrice', u'2458457')]), OrderedDict([(u'type', u'5 Bedroom Properties'), (u'numberOfProperties', u'33'), (u'medianListingPrice', u'1727714'), (u'averageListingPrice', u'2557950')]), OrderedDict([(u'type', u'6 Bedroom Properties'), (u'numberOfProperties', u'6'), (u'medianListingPrice', u'1922429'), (u'averageListingPrice', u'2500850')]), OrderedDict([(u'type', u'7 Bedroom Properties'), (u'numberOfProperties', u'3'), (u'medianListingPrice', u'1959000'), (u'averageListingPrice', u'1816000')]), OrderedDict([(u'type', u'8 Bedroom Properties'), (u'numberOfProperties', u'3'), (u'medianListingPrice', u'4768857'), (u'averageListingPrice', u'3961810')]), OrderedDict([(u'type', u'9 Bedroom Properties'), (u'numberOfProperties', u'2'), (u'medianListingPrice', u'6297500'), (u'averageListingPrice', u'6297500')]), OrderedDict([(u'type', u'10 Bedroom Properties'), (u'numberOfProperties', u'1'), (u'medianListingPrice', u'3495000'), (u'averageListingPrice', u'3495000')]), OrderedDict([(u'type', u'14 Bedroom Properties'), (u'numberOfProperties', u'1'), (u'medianListingPrice', u'17995000'), (u'averageListingPrice', u'17995000')])])]))]),\n",
       " OrderedDict([(u'weekEndingDate', u'2014-07-19'), (u'listingPrice', OrderedDict([(u'subcategory', [OrderedDict([(u'type', u'All Properties'), (u'numberOfProperties', u'618'), (u'medianListingPrice', u'947952'), (u'averageListingPrice', u'1437020')]), OrderedDict([(u'type', u'1 Bedroom Properties'), (u'numberOfProperties', u'119'), (u'medianListingPrice', u'698786'), (u'averageListingPrice', u'742282')]), OrderedDict([(u'type', u'2 Bedroom Properties'), (u'numberOfProperties', u'206'), (u'medianListingPrice', u'935571'), (u'averageListingPrice', u'1078919')]), OrderedDict([(u'type', u'3 Bedroom Properties'), (u'numberOfProperties', u'158'), (u'medianListingPrice', u'1193286'), (u'averageListingPrice', u'1681449')]), OrderedDict([(u'type', u'4 Bedroom Properties'), (u'numberOfProperties', u'60'), (u'medianListingPrice', u'1666786'), (u'averageListingPrice', u'2461217')]), OrderedDict([(u'type', u'5 Bedroom Properties'), (u'numberOfProperties', u'31'), (u'medianListingPrice', u'1802071'), (u'averageListingPrice', u'2620232')]), OrderedDict([(u'type', u'6 Bedroom Properties'), (u'numberOfProperties', u'6'), (u'medianListingPrice', u'2148143'), (u'averageListingPrice', u'2084845')]), OrderedDict([(u'type', u'7 Bedroom Properties'), (u'numberOfProperties', u'3'), (u'medianListingPrice', u'2004714'), (u'averageListingPrice', u'1988393')]), OrderedDict([(u'type', u'8 Bedroom Properties'), (u'numberOfProperties', u'3'), (u'medianListingPrice', u'2311714'), (u'averageListingPrice', u'3033238')]), OrderedDict([(u'type', u'9 Bedroom Properties'), (u'numberOfProperties', u'2'), (u'medianListingPrice', u'6297500'), (u'averageListingPrice', u'6283214')]), OrderedDict([(u'type', u'14 Bedroom Properties'), (u'numberOfProperties', u'1'), (u'medianListingPrice', u'17995000'), (u'averageListingPrice', u'17995000')])])]))]),\n",
       " OrderedDict([(u'weekEndingDate', u'2014-07-26'), (u'listingPrice', OrderedDict([(u'subcategory', [OrderedDict([(u'type', u'All Properties'), (u'numberOfProperties', u'630'), (u'medianListingPrice', u'973143'), (u'averageListingPrice', u'1422883')]), OrderedDict([(u'type', u'1 Bedroom Properties'), (u'numberOfProperties', u'119'), (u'medianListingPrice', u'699036'), (u'averageListingPrice', u'743903')]), OrderedDict([(u'type', u'2 Bedroom Properties'), (u'numberOfProperties', u'213'), (u'medianListingPrice', u'925500'), (u'averageListingPrice', u'1049928')]), OrderedDict([(u'type', u'3 Bedroom Properties'), (u'numberOfProperties', u'159'), (u'medianListingPrice', u'1192143'), (u'averageListingPrice', u'1641831')]), OrderedDict([(u'type', u'4 Bedroom Properties'), (u'numberOfProperties', u'63'), (u'medianListingPrice', u'1759286'), (u'averageListingPrice', u'2498870')]), OrderedDict([(u'type', u'5 Bedroom Properties'), (u'numberOfProperties', u'28'), (u'medianListingPrice', u'1770357'), (u'averageListingPrice', u'2669617')]), OrderedDict([(u'type', u'6 Bedroom Properties'), (u'numberOfProperties', u'8'), (u'medianListingPrice', u'2069071'), (u'averageListingPrice', u'1958806')]), OrderedDict([(u'type', u'7 Bedroom Properties'), (u'numberOfProperties', u'4'), (u'medianListingPrice', u'2279000'), (u'averageListingPrice', u'2987000')]), OrderedDict([(u'type', u'8 Bedroom Properties'), (u'numberOfProperties', u'3'), (u'medianListingPrice', u'1500000'), (u'averageListingPrice', u'2762667')]), OrderedDict([(u'type', u'9 Bedroom Properties'), (u'numberOfProperties', u'2'), (u'medianListingPrice', u'6147500'), (u'averageListingPrice', u'6147500')]), OrderedDict([(u'type', u'14 Bedroom Properties'), (u'numberOfProperties', u'1'), (u'medianListingPrice', u'17995000'), (u'averageListingPrice', u'17995000')])])]))]),\n",
       " OrderedDict([(u'weekEndingDate', u'2014-08-02'), (u'listingPrice', OrderedDict([(u'subcategory', [OrderedDict([(u'type', u'All Properties'), (u'numberOfProperties', u'604'), (u'medianListingPrice', u'916714'), (u'averageListingPrice', u'1372699')]), OrderedDict([(u'type', u'1 Bedroom Properties'), (u'numberOfProperties', u'124'), (u'medianListingPrice', u'702143'), (u'averageListingPrice', u'727667')]), OrderedDict([(u'type', u'2 Bedroom Properties'), (u'numberOfProperties', u'209'), (u'medianListingPrice', u'909929'), (u'averageListingPrice', u'1063383')]), OrderedDict([(u'type', u'3 Bedroom Properties'), (u'numberOfProperties', u'144'), (u'medianListingPrice', u'1142214'), (u'averageListingPrice', u'1614586')]), OrderedDict([(u'type', u'4 Bedroom Properties'), (u'numberOfProperties', u'57'), (u'medianListingPrice', u'1681400'), (u'averageListingPrice', u'2549175')]), OrderedDict([(u'type', u'5 Bedroom Properties'), (u'numberOfProperties', u'24'), (u'medianListingPrice', u'1495714'), (u'averageListingPrice', u'2297878')]), OrderedDict([(u'type', u'6 Bedroom Properties'), (u'numberOfProperties', u'5'), (u'medianListingPrice', u'1295679'), (u'averageListingPrice', u'1466001')]), OrderedDict([(u'type', u'7 Bedroom Properties'), (u'numberOfProperties', u'5'), (u'medianListingPrice', u'2141857'), (u'averageListingPrice', u'2834295')]), OrderedDict([(u'type', u'8 Bedroom Properties'), (u'numberOfProperties', u'3'), (u'medianListingPrice', u'1611429'), (u'averageListingPrice', u'2848572')]), OrderedDict([(u'type', u'9 Bedroom Properties'), (u'numberOfProperties', u'2'), (u'medianListingPrice', u'5141429'), (u'averageListingPrice', u'5812143')]), OrderedDict([(u'type', u'14 Bedroom Properties'), (u'numberOfProperties', u'1'), (u'medianListingPrice', u'17995000'), (u'averageListingPrice', u'17995000')])])]))]),\n",
       " OrderedDict([(u'weekEndingDate', u'2014-08-09'), (u'listingPrice', OrderedDict([(u'subcategory', [OrderedDict([(u'type', u'All Properties'), (u'numberOfProperties', u'582'), (u'medianListingPrice', u'916571'), (u'averageListingPrice', u'1352420')]), OrderedDict([(u'type', u'1 Bedroom Properties'), (u'numberOfProperties', u'114'), (u'medianListingPrice', u'698143'), (u'averageListingPrice', u'723713')]), OrderedDict([(u'type', u'2 Bedroom Properties'), (u'numberOfProperties', u'201'), (u'medianListingPrice', u'906286'), (u'averageListingPrice', u'1067960')]), OrderedDict([(u'type', u'3 Bedroom Properties'), (u'numberOfProperties', u'140'), (u'medianListingPrice', u'1170000'), (u'averageListingPrice', u'1623291')]), OrderedDict([(u'type', u'4 Bedroom Properties'), (u'numberOfProperties', u'56'), (u'medianListingPrice', u'1304971'), (u'averageListingPrice', u'2290612')]), OrderedDict([(u'type', u'5 Bedroom Properties'), (u'numberOfProperties', u'24'), (u'medianListingPrice', u'1440000'), (u'averageListingPrice', u'2026670')]), OrderedDict([(u'type', u'6 Bedroom Properties'), (u'numberOfProperties', u'4'), (u'medianListingPrice', u'1149750'), (u'averageListingPrice', u'1246625')]), OrderedDict([(u'type', u'7 Bedroom Properties'), (u'numberOfProperties', u'6'), (u'medianListingPrice', u'1959000'), (u'averageListingPrice', u'2552838')]), OrderedDict([(u'type', u'8 Bedroom Properties'), (u'numberOfProperties', u'3'), (u'medianListingPrice', u'3116857'), (u'averageListingPrice', u'3472286')]), OrderedDict([(u'type', u'9 Bedroom Properties'), (u'numberOfProperties', u'3'), (u'medianListingPrice', u'3800000'), (u'averageListingPrice', u'5365000')]), OrderedDict([(u'type', u'14 Bedroom Properties'), (u'numberOfProperties', u'1'), (u'medianListingPrice', u'17995000'), (u'averageListingPrice', u'17995000')])])]))]),\n",
       " OrderedDict([(u'weekEndingDate', u'2014-08-16'), (u'listingPrice', OrderedDict([(u'subcategory', [OrderedDict([(u'type', u'All Properties'), (u'numberOfProperties', u'513'), (u'medianListingPrice', u'909929'), (u'averageListingPrice', u'1349309')]), OrderedDict([(u'type', u'1 Bedroom Properties'), (u'numberOfProperties', u'97'), (u'medianListingPrice', u'699000'), (u'averageListingPrice', u'728233')]), OrderedDict([(u'type', u'2 Bedroom Properties'), (u'numberOfProperties', u'182'), (u'medianListingPrice', u'888143'), (u'averageListingPrice', u'1046326')]), OrderedDict([(u'type', u'3 Bedroom Properties'), (u'numberOfProperties', u'120'), (u'medianListingPrice', u'1168000'), (u'averageListingPrice', u'1620098')]), OrderedDict([(u'type', u'4 Bedroom Properties'), (u'numberOfProperties', u'48'), (u'medianListingPrice', u'1227286'), (u'averageListingPrice', u'2305843')]), OrderedDict([(u'type', u'5 Bedroom Properties'), (u'numberOfProperties', u'22'), (u'medianListingPrice', u'1464286'), (u'averageListingPrice', u'2027874')]), OrderedDict([(u'type', u'6 Bedroom Properties'), (u'numberOfProperties', u'3'), (u'medianListingPrice', u'1106679'), (u'averageListingPrice', u'1259947')]), OrderedDict([(u'type', u'7 Bedroom Properties'), (u'numberOfProperties', u'5'), (u'medianListingPrice', u'1959000'), (u'averageListingPrice', u'2532610')]), OrderedDict([(u'type', u'8 Bedroom Properties'), (u'numberOfProperties', u'3'), (u'medianListingPrice', u'2717000'), (u'averageListingPrice', u'3339000')]), OrderedDict([(u'type', u'9 Bedroom Properties'), (u'numberOfProperties', u'3'), (u'medianListingPrice', u'3800000'), (u'averageListingPrice', u'5365000')]), OrderedDict([(u'type', u'14 Bedroom Properties'), (u'numberOfProperties', u'1'), (u'medianListingPrice', u'17995000'), (u'averageListingPrice', u'17995000')])])]))]),\n",
       " OrderedDict([(u'weekEndingDate', u'2014-08-23'), (u'listingPrice', OrderedDict([(u'subcategory', [OrderedDict([(u'type', u'All Properties'), (u'numberOfProperties', u'445'), (u'medianListingPrice', u'899214'), (u'averageListingPrice', u'1356613')]), OrderedDict([(u'type', u'1 Bedroom Properties'), (u'numberOfProperties', u'87'), (u'medianListingPrice', u'701207'), (u'averageListingPrice', u'740997')]), OrderedDict([(u'type', u'2 Bedroom Properties'), (u'numberOfProperties', u'154'), (u'medianListingPrice', u'881286'), (u'averageListingPrice', u'1057434')]), OrderedDict([(u'type', u'3 Bedroom Properties'), (u'numberOfProperties', u'106'), (u'medianListingPrice', u'1086000'), (u'averageListingPrice', u'1575460')]), OrderedDict([(u'type', u'4 Bedroom Properties'), (u'numberOfProperties', u'37'), (u'medianListingPrice', u'1232143'), (u'averageListingPrice', u'2370663')]), OrderedDict([(u'type', u'5 Bedroom Properties'), (u'numberOfProperties', u'22'), (u'medianListingPrice', u'1454286'), (u'averageListingPrice', u'2058657')]), OrderedDict([(u'type', u'6 Bedroom Properties'), (u'numberOfProperties', u'3'), (u'medianListingPrice', u'1251464'), (u'averageListingPrice', u'1395548')]), OrderedDict([(u'type', u'7 Bedroom Properties'), (u'numberOfProperties', u'3'), (u'medianListingPrice', u'1539929'), (u'averageListingPrice', u'2887702')]), OrderedDict([(u'type', u'8 Bedroom Properties'), (u'numberOfProperties', u'3'), (u'medianListingPrice', u'2717000'), (u'averageListingPrice', u'3339000')]), OrderedDict([(u'type', u'9 Bedroom Properties'), (u'numberOfProperties', u'2'), (u'medianListingPrice', u'5141429'), (u'averageListingPrice', u'5812143')]), OrderedDict([(u'type', u'14 Bedroom Properties'), (u'numberOfProperties', u'1'), (u'medianListingPrice', u'17995000'), (u'averageListingPrice', u'17995000')])])]))]),\n",
       " OrderedDict([(u'weekEndingDate', u'2014-08-30'), (u'listingPrice', OrderedDict([(u'subcategory', [OrderedDict([(u'type', u'All Properties'), (u'numberOfProperties', u'524'), (u'medianListingPrice', u'896571'), (u'averageListingPrice', u'1284828')]), OrderedDict([(u'type', u'1 Bedroom Properties'), (u'numberOfProperties', u'89'), (u'medianListingPrice', u'715350'), (u'averageListingPrice', u'729298')]), OrderedDict([(u'type', u'2 Bedroom Properties'), (u'numberOfProperties', u'183'), (u'medianListingPrice', u'873357'), (u'averageListingPrice', u'1023316')]), OrderedDict([(u'type', u'3 Bedroom Properties'), (u'numberOfProperties', u'126'), (u'medianListingPrice', u'988500'), (u'averageListingPrice', u'1446263')]), OrderedDict([(u'type', u'4 Bedroom Properties'), (u'numberOfProperties', u'51'), (u'medianListingPrice', u'1263500'), (u'averageListingPrice', u'1893697')]), OrderedDict([(u'type', u'5 Bedroom Properties'), (u'numberOfProperties', u'26'), (u'medianListingPrice', u'1400000'), (u'averageListingPrice', u'2101820')]), OrderedDict([(u'type', u'6 Bedroom Properties'), (u'numberOfProperties', u'6'), (u'medianListingPrice', u'1818857'), (u'averageListingPrice', u'2006350')]), OrderedDict([(u'type', u'7 Bedroom Properties'), (u'numberOfProperties', u'4'), (u'medianListingPrice', u'1962500'), (u'averageListingPrice', u'2828750')]), OrderedDict([(u'type', u'8 Bedroom Properties'), (u'numberOfProperties', u'4'), (u'medianListingPrice', u'2282357'), (u'averageListingPrice', u'2914500')]), OrderedDict([(u'type', u'9 Bedroom Properties'), (u'numberOfProperties', u'2'), (u'medianListingPrice', u'6147500'), (u'averageListingPrice', u'6147500')]), OrderedDict([(u'type', u'14 Bedroom Properties'), (u'numberOfProperties', u'1'), (u'medianListingPrice', u'17995000'), (u'averageListingPrice', u'17995000')])])]))]),\n",
       " OrderedDict([(u'weekEndingDate', u'2014-09-06'), (u'listingPrice', OrderedDict([(u'subcategory', [OrderedDict([(u'type', u'All Properties'), (u'numberOfProperties', u'539'), (u'medianListingPrice', u'926071'), (u'averageListingPrice', u'1356586')]), OrderedDict([(u'type', u'1 Bedroom Properties'), (u'numberOfProperties', u'94'), (u'medianListingPrice', u'699193'), (u'averageListingPrice', u'725691')]), OrderedDict([(u'type', u'2 Bedroom Properties'), (u'numberOfProperties', u'181'), (u'medianListingPrice', u'922357'), (u'averageListingPrice', u'1077741')]), OrderedDict([(u'type', u'3 Bedroom Properties'), (u'numberOfProperties', u'137'), (u'medianListingPrice', u'1053000'), (u'averageListingPrice', u'1457067')]), OrderedDict([(u'type', u'4 Bedroom Properties'), (u'numberOfProperties', u'58'), (u'medianListingPrice', u'1359357'), (u'averageListingPrice', u'2047288')]), OrderedDict([(u'type', u'5 Bedroom Properties'), (u'numberOfProperties', u'25'), (u'medianListingPrice', u'1433571'), (u'averageListingPrice', u'2659908')]), OrderedDict([(u'type', u'6 Bedroom Properties'), (u'numberOfProperties', u'4'), (u'medianListingPrice', u'2509500'), (u'averageListingPrice', u'2572564')]), OrderedDict([(u'type', u'7 Bedroom Properties'), (u'numberOfProperties', u'4'), (u'medianListingPrice', u'1644200'), (u'averageListingPrice', u'2831743')]), OrderedDict([(u'type', u'8 Bedroom Properties'), (u'numberOfProperties', u'3'), (u'medianListingPrice', u'2717000'), (u'averageListingPrice', u'3222000')]), OrderedDict([(u'type', u'9 Bedroom Properties'), (u'numberOfProperties', u'2'), (u'medianListingPrice', u'6147500'), (u'averageListingPrice', u'6147500')]), OrderedDict([(u'type', u'14 Bedroom Properties'), (u'numberOfProperties', u'1'), (u'medianListingPrice', u'17995000'), (u'averageListingPrice', u'17995000')])])]))]),\n",
       " OrderedDict([(u'weekEndingDate', u'2014-09-13'), (u'listingPrice', OrderedDict([(u'subcategory', [OrderedDict([(u'type', u'All Properties'), (u'numberOfProperties', u'654'), (u'medianListingPrice', u'991500'), (u'averageListingPrice', u'1441319')]), OrderedDict([(u'type', u'1 Bedroom Properties'), (u'numberOfProperties', u'114'), (u'medianListingPrice', u'714429'), (u'averageListingPrice', u'741918')]), OrderedDict([(u'type', u'2 Bedroom Properties'), (u'numberOfProperties', u'205'), (u'medianListingPrice', u'965714'), (u'averageListingPrice', u'1104308')]), OrderedDict([(u'type', u'3 Bedroom Properties'), (u'numberOfProperties', u'183'), (u'medianListingPrice', u'1140000'), (u'averageListingPrice', u'1399467')]), OrderedDict([(u'type', u'4 Bedroom Properties'), (u'numberOfProperties', u'79'), (u'medianListingPrice', u'1484786'), (u'averageListingPrice', u'2539029')]), OrderedDict([(u'type', u'5 Bedroom Properties'), (u'numberOfProperties', u'26'), (u'medianListingPrice', u'1579286'), (u'averageListingPrice', u'2883494')]), OrderedDict([(u'type', u'6 Bedroom Properties'), (u'numberOfProperties', u'6'), (u'medianListingPrice', u'3089500'), (u'averageListingPrice', u'3981941')]), OrderedDict([(u'type', u'7 Bedroom Properties'), (u'numberOfProperties', u'3'), (u'medianListingPrice', u'1443971'), (u'averageListingPrice', u'2858319')]), OrderedDict([(u'type', u'8 Bedroom Properties'), (u'numberOfProperties', u'3'), (u'medianListingPrice', u'2493000'), (u'averageListingPrice', u'2853714')]), OrderedDict([(u'type', u'9 Bedroom Properties'), (u'numberOfProperties', u'3'), (u'medianListingPrice', u'6048929'), (u'averageListingPrice', u'6137024')]), OrderedDict([(u'type', u'14 Bedroom Properties'), (u'numberOfProperties', u'1'), (u'medianListingPrice', u'17995000'), (u'averageListingPrice', u'17995000')])])]))]),\n",
       " OrderedDict([(u'weekEndingDate', u'2014-09-20'), (u'listingPrice', OrderedDict([(u'subcategory', [OrderedDict([(u'type', u'All Properties'), (u'numberOfProperties', u'500'), (u'medianListingPrice', u'952000'), (u'averageListingPrice', u'1333883')]), OrderedDict([(u'type', u'1 Bedroom Properties'), (u'numberOfProperties', u'92'), (u'medianListingPrice', u'710714'), (u'averageListingPrice', u'739849')]), OrderedDict([(u'type', u'2 Bedroom Properties'), (u'numberOfProperties', u'157'), (u'medianListingPrice', u'931143'), (u'averageListingPrice', u'1067135')]), OrderedDict([(u'type', u'3 Bedroom Properties'), (u'numberOfProperties', u'140'), (u'medianListingPrice', u'1145000'), (u'averageListingPrice', u'1366228')]), OrderedDict([(u'type', u'4 Bedroom Properties'), (u'numberOfProperties', u'55'), (u'medianListingPrice', u'1505429'), (u'averageListingPrice', u'2344932')]), OrderedDict([(u'type', u'5 Bedroom Properties'), (u'numberOfProperties', u'20'), (u'medianListingPrice', u'1326429'), (u'averageListingPrice', u'2332490')]), OrderedDict([(u'type', u'6 Bedroom Properties'), (u'numberOfProperties', u'4'), (u'medianListingPrice', u'2859000'), (u'averageListingPrice', u'4115057')]), OrderedDict([(u'type', u'7 Bedroom Properties'), (u'numberOfProperties', u'4'), (u'medianListingPrice', u'1759280'), (u'averageListingPrice', u'2808013')]), OrderedDict([(u'type', u'8 Bedroom Properties'), (u'numberOfProperties', u'2'), (u'medianListingPrice', u'1531857'), (u'averageListingPrice', u'1531857')]), OrderedDict([(u'type', u'9 Bedroom Properties'), (u'numberOfProperties', u'3'), (u'medianListingPrice', u'5217500'), (u'averageListingPrice', u'5106786')])])]))]),\n",
       " OrderedDict([(u'weekEndingDate', u'2014-09-27'), (u'listingPrice', OrderedDict([(u'subcategory', [OrderedDict([(u'type', u'All Properties'), (u'numberOfProperties', u'254'), (u'medianListingPrice', u'907929'), (u'averageListingPrice', u'1171358')]), OrderedDict([(u'type', u'1 Bedroom Properties'), (u'numberOfProperties', u'47'), (u'medianListingPrice', u'672492'), (u'averageListingPrice', u'704710')]), OrderedDict([(u'type', u'2 Bedroom Properties'), (u'numberOfProperties', u'83'), (u'medianListingPrice', u'916214'), (u'averageListingPrice', u'1016846')]), OrderedDict([(u'type', u'3 Bedroom Properties'), (u'numberOfProperties', u'67'), (u'medianListingPrice', u'1047341'), (u'averageListingPrice', u'1196945')]), OrderedDict([(u'type', u'4 Bedroom Properties'), (u'numberOfProperties', u'27'), (u'medianListingPrice', u'1544500'), (u'averageListingPrice', u'1998682')]), OrderedDict([(u'type', u'5 Bedroom Properties'), (u'numberOfProperties', u'10'), (u'medianListingPrice', u'1017857'), (u'averageListingPrice', u'1455044')]), OrderedDict([(u'type', u'6 Bedroom Properties'), (u'numberOfProperties', u'3'), (u'medianListingPrice', u'2752500'), (u'averageListingPrice', u'3140010')]), OrderedDict([(u'type', u'7 Bedroom Properties'), (u'numberOfProperties', u'4'), (u'medianListingPrice', u'3884400'), (u'averageListingPrice', u'6664700')]), OrderedDict([(u'type', u'8 Bedroom Properties'), (u'numberOfProperties', u'1'), (u'medianListingPrice', u'1730600'), (u'averageListingPrice', u'1730600')]), OrderedDict([(u'type', u'9 Bedroom Properties'), (u'numberOfProperties', u'2'), (u'medianListingPrice', u'4204000'), (u'averageListingPrice', u'4150000')])])]))]),\n",
       " OrderedDict([(u'weekEndingDate', u'2014-10-04'), (u'listingPrice', OrderedDict([(u'subcategory', [OrderedDict([(u'type', u'All Properties'), (u'numberOfProperties', u'641'), (u'medianListingPrice', u'1052629'), (u'averageListingPrice', u'1566580')]), OrderedDict([(u'type', u'1 Bedroom Properties'), (u'numberOfProperties', u'108'), (u'medianListingPrice', u'754857'), (u'averageListingPrice', u'781641')]), OrderedDict([(u'type', u'2 Bedroom Properties'), (u'numberOfProperties', u'188'), (u'medianListingPrice', u'953500'), (u'averageListingPrice', u'1150160')]), OrderedDict([(u'type', u'3 Bedroom Properties'), (u'numberOfProperties', u'171'), (u'medianListingPrice', u'1294143'), (u'averageListingPrice', u'1590361')]), OrderedDict([(u'type', u'4 Bedroom Properties'), (u'numberOfProperties', u'87'), (u'medianListingPrice', u'1570643'), (u'averageListingPrice', u'2582779')]), OrderedDict([(u'type', u'5 Bedroom Properties'), (u'numberOfProperties', u'24'), (u'medianListingPrice', u'1964643'), (u'averageListingPrice', u'2715531')]), OrderedDict([(u'type', u'6 Bedroom Properties'), (u'numberOfProperties', u'7'), (u'medianListingPrice', u'2255643'), (u'averageListingPrice', u'3500733')]), OrderedDict([(u'type', u'7 Bedroom Properties'), (u'numberOfProperties', u'5'), (u'medianListingPrice', u'4181257'), (u'averageListingPrice', u'6170205')]), OrderedDict([(u'type', u'8 Bedroom Properties'), (u'numberOfProperties', u'2'), (u'medianListingPrice', u'2570429'), (u'averageListingPrice', u'2497952')]), OrderedDict([(u'type', u'9 Bedroom Properties'), (u'numberOfProperties', u'4'), (u'medianListingPrice', u'6617500'), (u'averageListingPrice', u'6482500')])])]))]),\n",
       " OrderedDict([(u'weekEndingDate', u'2014-10-11'), (u'listingPrice', OrderedDict([(u'subcategory', [OrderedDict([(u'type', u'All Properties'), (u'numberOfProperties', u'645'), (u'medianListingPrice', u'1027571'), (u'averageListingPrice', u'1543562')]), OrderedDict([(u'type', u'1 Bedroom Properties'), (u'numberOfProperties', u'109'), (u'medianListingPrice', u'732238'), (u'averageListingPrice', u'776884')]), OrderedDict([(u'type', u'2 Bedroom Properties'), (u'numberOfProperties', u'191'), (u'medianListingPrice', u'932143'), (u'averageListingPrice', u'1114566')]), OrderedDict([(u'type', u'3 Bedroom Properties'), (u'numberOfProperties', u'172'), (u'medianListingPrice', u'1291143'), (u'averageListingPrice', u'1568396')]), OrderedDict([(u'type', u'4 Bedroom Properties'), (u'numberOfProperties', u'86'), (u'medianListingPrice', u'1658214'), (u'averageListingPrice', u'2715729')]), OrderedDict([(u'type', u'5 Bedroom Properties'), (u'numberOfProperties', u'19'), (u'medianListingPrice', u'1991286'), (u'averageListingPrice', u'2520402')]), OrderedDict([(u'type', u'6 Bedroom Properties'), (u'numberOfProperties', u'8'), (u'medianListingPrice', u'2285143'), (u'averageListingPrice', u'3400119')]), OrderedDict([(u'type', u'7 Bedroom Properties'), (u'numberOfProperties', u'5'), (u'medianListingPrice', u'4517857'), (u'averageListingPrice', u'6378777')]), OrderedDict([(u'type', u'8 Bedroom Properties'), (u'numberOfProperties', u'3'), (u'medianListingPrice', u'2489000'), (u'averageListingPrice', u'2235333')]), OrderedDict([(u'type', u'9 Bedroom Properties'), (u'numberOfProperties', u'4'), (u'medianListingPrice', u'6546786'), (u'averageListingPrice', u'6409107')])])]))]),\n",
       " OrderedDict([(u'weekEndingDate', u'2014-10-18'), (u'listingPrice', OrderedDict([(u'subcategory', [OrderedDict([(u'type', u'All Properties'), (u'numberOfProperties', u'649'), (u'medianListingPrice', u'1030571'), (u'averageListingPrice', u'1536657')]), OrderedDict([(u'type', u'1 Bedroom Properties'), (u'numberOfProperties', u'110'), (u'medianListingPrice', u'737571'), (u'averageListingPrice', u'785277')]), OrderedDict([(u'type', u'2 Bedroom Properties'), (u'numberOfProperties', u'197'), (u'medianListingPrice', u'923857'), (u'averageListingPrice', u'1119599')]), OrderedDict([(u'type', u'3 Bedroom Properties'), (u'numberOfProperties', u'166'), (u'medianListingPrice', u'1268786'), (u'averageListingPrice', u'1541701')]), OrderedDict([(u'type', u'4 Bedroom Properties'), (u'numberOfProperties', u'86'), (u'medianListingPrice', u'1682857'), (u'averageListingPrice', u'2709875')]), OrderedDict([(u'type', u'5 Bedroom Properties'), (u'numberOfProperties', u'23'), (u'medianListingPrice', u'1964557'), (u'averageListingPrice', u'2486421')]), OrderedDict([(u'type', u'6 Bedroom Properties'), (u'numberOfProperties', u'10'), (u'medianListingPrice', u'2411000'), (u'averageListingPrice', u'3638114')]), OrderedDict([(u'type', u'7 Bedroom Properties'), (u'numberOfProperties', u'5'), (u'medianListingPrice', u'4250000'), (u'averageListingPrice', u'6161760')]), OrderedDict([(u'type', u'8 Bedroom Properties'), (u'numberOfProperties', u'2'), (u'medianListingPrice', u'2135786'), (u'averageListingPrice', u'2063309')]), OrderedDict([(u'type', u'9 Bedroom Properties'), (u'numberOfProperties', u'4'), (u'medianListingPrice', u'5245000'), (u'averageListingPrice', u'5721250')])])]))]),\n",
       " OrderedDict([(u'weekEndingDate', u'2014-10-25'), (u'listingPrice', OrderedDict([(u'subcategory', [OrderedDict([(u'type', u'All Properties'), (u'numberOfProperties', u'669'), (u'medianListingPrice', u'1061714'), (u'averageListingPrice', u'1557259')]), OrderedDict([(u'type', u'1 Bedroom Properties'), (u'numberOfProperties', u'110'), (u'medianListingPrice', u'745643'), (u'averageListingPrice', u'803347')]), OrderedDict([(u'type', u'2 Bedroom Properties'), (u'numberOfProperties', u'209'), (u'medianListingPrice', u'916500'), (u'averageListingPrice', u'1112457')]), OrderedDict([(u'type', u'3 Bedroom Properties'), (u'numberOfProperties', u'173'), (u'medianListingPrice', u'1278786'), (u'averageListingPrice', u'1583148')]), OrderedDict([(u'type', u'4 Bedroom Properties'), (u'numberOfProperties', u'85'), (u'medianListingPrice', u'1634907'), (u'averageListingPrice', u'2659419')]), OrderedDict([(u'type', u'5 Bedroom Properties'), (u'numberOfProperties', u'25'), (u'medianListingPrice', u'2170571'), (u'averageListingPrice', u'2851450')]), OrderedDict([(u'type', u'6 Bedroom Properties'), (u'numberOfProperties', u'10'), (u'medianListingPrice', u'2361857'), (u'averageListingPrice', u'4090397')]), OrderedDict([(u'type', u'7 Bedroom Properties'), (u'numberOfProperties', u'6'), (u'medianListingPrice', u'3589286'), (u'averageListingPrice', u'5739522')]), OrderedDict([(u'type', u'8 Bedroom Properties'), (u'numberOfProperties', u'2'), (u'medianListingPrice', u'1994500'), (u'averageListingPrice', u'1994500')]), OrderedDict([(u'type', u'9 Bedroom Properties'), (u'numberOfProperties', u'4'), (u'medianListingPrice', u'4923571'), (u'averageListingPrice', u'5634786')])])]))]),\n",
       " OrderedDict([(u'weekEndingDate', u'2014-11-01'), (u'listingPrice', OrderedDict([(u'subcategory', [OrderedDict([(u'type', u'All Properties'), (u'numberOfProperties', u'662'), (u'medianListingPrice', u'1082429'), (u'averageListingPrice', u'1601867')]), OrderedDict([(u'type', u'1 Bedroom Properties'), (u'numberOfProperties', u'104'), (u'medianListingPrice', u'746357'), (u'averageListingPrice', u'812861')]), OrderedDict([(u'type', u'2 Bedroom Properties'), (u'numberOfProperties', u'207'), (u'medianListingPrice', u'959786'), (u'averageListingPrice', u'1158534')]), OrderedDict([(u'type', u'3 Bedroom Properties'), (u'numberOfProperties', u'174'), (u'medianListingPrice', u'1284071'), (u'averageListingPrice', u'1572391')]), OrderedDict([(u'type', u'4 Bedroom Properties'), (u'numberOfProperties', u'85'), (u'medianListingPrice', u'1782464'), (u'averageListingPrice', u'2747224')]), OrderedDict([(u'type', u'5 Bedroom Properties'), (u'numberOfProperties', u'26'), (u'medianListingPrice', u'2410557'), (u'averageListingPrice', u'3062110')]), OrderedDict([(u'type', u'6 Bedroom Properties'), (u'numberOfProperties', u'12'), (u'medianListingPrice', u'2319000'), (u'averageListingPrice', u'4582955')]), OrderedDict([(u'type', u'7 Bedroom Properties'), (u'numberOfProperties', u'5'), (u'medianListingPrice', u'4250000'), (u'averageListingPrice', u'6161760')]), OrderedDict([(u'type', u'8 Bedroom Properties'), (u'numberOfProperties', u'2'), (u'medianListingPrice', u'2135786'), (u'averageListingPrice', u'2356929')]), OrderedDict([(u'type', u'9 Bedroom Properties'), (u'numberOfProperties', u'2'), (u'medianListingPrice', u'5711071'), (u'averageListingPrice', u'6084107')])])]))]),\n",
       " OrderedDict([(u'weekEndingDate', u'2014-11-08'), (u'listingPrice', OrderedDict([(u'subcategory', [OrderedDict([(u'type', u'All Properties'), (u'numberOfProperties', u'609'), (u'medianListingPrice', u'1062714'), (u'averageListingPrice', u'1583829')]), OrderedDict([(u'type', u'1 Bedroom Properties'), (u'numberOfProperties', u'98'), (u'medianListingPrice', u'734714'), (u'averageListingPrice', u'801316')]), OrderedDict([(u'type', u'2 Bedroom Properties'), (u'numberOfProperties', u'181'), (u'medianListingPrice', u'993500'), (u'averageListingPrice', u'1143252')]), OrderedDict([(u'type', u'3 Bedroom Properties'), (u'numberOfProperties', u'168'), (u'medianListingPrice', u'1319286'), (u'averageListingPrice', u'1598497')]), OrderedDict([(u'type', u'4 Bedroom Properties'), (u'numberOfProperties', u'78'), (u'medianListingPrice', u'1768621'), (u'averageListingPrice', u'2794529')]), OrderedDict([(u'type', u'5 Bedroom Properties'), (u'numberOfProperties', u'20'), (u'medianListingPrice', u'1807286'), (u'averageListingPrice', u'2730299')]), OrderedDict([(u'type', u'6 Bedroom Properties'), (u'numberOfProperties', u'11'), (u'medianListingPrice', u'2296714'), (u'averageListingPrice', u'4720411')]), OrderedDict([(u'type', u'7 Bedroom Properties'), (u'numberOfProperties', u'5'), (u'medianListingPrice', u'4024286'), (u'averageListingPrice', u'6027870')]), OrderedDict([(u'type', u'8 Bedroom Properties'), (u'numberOfProperties', u'2'), (u'medianListingPrice', u'2513571'), (u'averageListingPrice', u'2513571')]), OrderedDict([(u'type', u'9 Bedroom Properties'), (u'numberOfProperties', u'2'), (u'medianListingPrice', u'6347500'), (u'averageListingPrice', u'6347500')])])]))]),\n",
       " OrderedDict([(u'weekEndingDate', u'2014-11-15'), (u'listingPrice', OrderedDict([(u'subcategory', [OrderedDict([(u'type', u'All Properties'), (u'numberOfProperties', u'630'), (u'medianListingPrice', u'1098629'), (u'averageListingPrice', u'1670282')]), OrderedDict([(u'type', u'1 Bedroom Properties'), (u'numberOfProperties', u'100'), (u'medianListingPrice', u'747000'), (u'averageListingPrice', u'824754')]), OrderedDict([(u'type', u'2 Bedroom Properties'), (u'numberOfProperties', u'191'), (u'medianListingPrice', u'996929'), (u'averageListingPrice', u'1158866')]), OrderedDict([(u'type', u'3 Bedroom Properties'), (u'numberOfProperties', u'168'), (u'medianListingPrice', u'1323429'), (u'averageListingPrice', u'1636983')]), OrderedDict([(u'type', u'4 Bedroom Properties'), (u'numberOfProperties', u'74'), (u'medianListingPrice', u'1861479'), (u'averageListingPrice', u'2931347')]), OrderedDict([(u'type', u'5 Bedroom Properties'), (u'numberOfProperties', u'23'), (u'medianListingPrice', u'2056500'), (u'averageListingPrice', u'3052633')]), OrderedDict([(u'type', u'6 Bedroom Properties'), (u'numberOfProperties', u'12'), (u'medianListingPrice', u'2903857'), (u'averageListingPrice', u'5160554')]), OrderedDict([(u'type', u'7 Bedroom Properties'), (u'numberOfProperties', u'6'), (u'medianListingPrice', u'3992429'), (u'averageListingPrice', u'6153381')]), OrderedDict([(u'type', u'8 Bedroom Properties'), (u'numberOfProperties', u'2'), (u'medianListingPrice', u'4144500'), (u'averageListingPrice', u'4144500')]), OrderedDict([(u'type', u'9 Bedroom Properties'), (u'numberOfProperties', u'2'), (u'medianListingPrice', u'6347500'), (u'averageListingPrice', u'6347500')]), OrderedDict([(u'type', u'14 Bedroom Properties'), (u'numberOfProperties', u'1'), (u'medianListingPrice', u'17995000'), (u'averageListingPrice', u'17995000')])])]))]),\n",
       " OrderedDict([(u'weekEndingDate', u'2014-11-22'), (u'listingPrice', OrderedDict([(u'subcategory', [OrderedDict([(u'type', u'All Properties'), (u'numberOfProperties', u'586'), (u'medianListingPrice', u'1098556'), (u'averageListingPrice', u'1696959')]), OrderedDict([(u'type', u'1 Bedroom Properties'), (u'numberOfProperties', u'97'), (u'medianListingPrice', u'751429'), (u'averageListingPrice', u'835420')]), OrderedDict([(u'type', u'2 Bedroom Properties'), (u'numberOfProperties', u'162'), (u'medianListingPrice', u'1002000'), (u'averageListingPrice', u'1181577')]), OrderedDict([(u'type', u'3 Bedroom Properties'), (u'numberOfProperties', u'160'), (u'medianListingPrice', u'1347857'), (u'averageListingPrice', u'1654488')]), OrderedDict([(u'type', u'4 Bedroom Properties'), (u'numberOfProperties', u'68'), (u'medianListingPrice', u'1651907'), (u'averageListingPrice', u'2883262')]), OrderedDict([(u'type', u'5 Bedroom Properties'), (u'numberOfProperties', u'24'), (u'medianListingPrice', u'2301786'), (u'averageListingPrice', u'3195183')]), OrderedDict([(u'type', u'6 Bedroom Properties'), (u'numberOfProperties', u'9'), (u'medianListingPrice', u'5324143'), (u'averageListingPrice', u'5986654')]), OrderedDict([(u'type', u'7 Bedroom Properties'), (u'numberOfProperties', u'6'), (u'medianListingPrice', u'2855714'), (u'averageListingPrice', u'5622452')]), OrderedDict([(u'type', u'8 Bedroom Properties'), (u'numberOfProperties', u'2'), (u'medianListingPrice', u'4144500'), (u'averageListingPrice', u'4144500')]), OrderedDict([(u'type', u'9 Bedroom Properties'), (u'numberOfProperties', u'1'), (u'medianListingPrice', u'9221071'), (u'averageListingPrice', u'9221071')]), OrderedDict([(u'type', u'14 Bedroom Properties'), (u'numberOfProperties', u'1'), (u'medianListingPrice', u'17995000'), (u'averageListingPrice', u'17995000')])])]))]),\n",
       " OrderedDict([(u'weekEndingDate', u'2014-11-29'), (u'listingPrice', OrderedDict([(u'subcategory', [OrderedDict([(u'type', u'All Properties'), (u'numberOfProperties', u'499'), (u'medianListingPrice', u'1079857'), (u'averageListingPrice', u'1709467')]), OrderedDict([(u'type', u'1 Bedroom Properties'), (u'numberOfProperties', u'93'), (u'medianListingPrice', u'751786'), (u'averageListingPrice', u'814922')]), OrderedDict([(u'type', u'2 Bedroom Properties'), (u'numberOfProperties', u'140'), (u'medianListingPrice', u'998286'), (u'averageListingPrice', u'1178033')]), OrderedDict([(u'type', u'3 Bedroom Properties'), (u'numberOfProperties', u'128'), (u'medianListingPrice', u'1367643'), (u'averageListingPrice', u'1678133')]), OrderedDict([(u'type', u'4 Bedroom Properties'), (u'numberOfProperties', u'57'), (u'medianListingPrice', u'1508429'), (u'averageListingPrice', u'2893947')]), OrderedDict([(u'type', u'5 Bedroom Properties'), (u'numberOfProperties', u'21'), (u'medianListingPrice', u'2438929'), (u'averageListingPrice', u'3254764')]), OrderedDict([(u'type', u'6 Bedroom Properties'), (u'numberOfProperties', u'8'), (u'medianListingPrice', u'5968143'), (u'averageListingPrice', u'6118614')]), OrderedDict([(u'type', u'7 Bedroom Properties'), (u'numberOfProperties', u'5'), (u'medianListingPrice', u'2298000'), (u'averageListingPrice', u'5755600')]), OrderedDict([(u'type', u'8 Bedroom Properties'), (u'numberOfProperties', u'2'), (u'medianListingPrice', u'4144500'), (u'averageListingPrice', u'4144500')]), OrderedDict([(u'type', u'9 Bedroom Properties'), (u'numberOfProperties', u'1'), (u'medianListingPrice', u'9700000'), (u'averageListingPrice', u'9700000')]), OrderedDict([(u'type', u'14 Bedroom Properties'), (u'numberOfProperties', u'1'), (u'medianListingPrice', u'17995000'), (u'averageListingPrice', u'17995000')])])]))]),\n",
       " OrderedDict([(u'weekEndingDate', u'2014-12-06'), (u'listingPrice', OrderedDict([(u'subcategory', [OrderedDict([(u'type', u'All Properties'), (u'numberOfProperties', u'461'), (u'medianListingPrice', u'1079357'), (u'averageListingPrice', u'1711963')]), OrderedDict([(u'type', u'1 Bedroom Properties'), (u'numberOfProperties', u'85'), (u'medianListingPrice', u'753429'), (u'averageListingPrice', u'827825')]), OrderedDict([(u'type', u'2 Bedroom Properties'), (u'numberOfProperties', u'130'), (u'medianListingPrice', u'997429'), (u'averageListingPrice', u'1161350')]), OrderedDict([(u'type', u'3 Bedroom Properties'), (u'numberOfProperties', u'117'), (u'medianListingPrice', u'1383929'), (u'averageListingPrice', u'1655876')]), OrderedDict([(u'type', u'4 Bedroom Properties'), (u'numberOfProperties', u'52'), (u'medianListingPrice', u'1362143'), (u'averageListingPrice', u'2862574')]), OrderedDict([(u'type', u'5 Bedroom Properties'), (u'numberOfProperties', u'19'), (u'medianListingPrice', u'2753571'), (u'averageListingPrice', u'3398800')]), OrderedDict([(u'type', u'6 Bedroom Properties'), (u'numberOfProperties', u'8'), (u'medianListingPrice', u'5576357'), (u'averageListingPrice', u'5675088')]), OrderedDict([(u'type', u'7 Bedroom Properties'), (u'numberOfProperties', u'6'), (u'medianListingPrice', u'4399000'), (u'averageListingPrice', u'6046333')]), OrderedDict([(u'type', u'8 Bedroom Properties'), (u'numberOfProperties', u'2'), (u'medianListingPrice', u'4144500'), (u'averageListingPrice', u'4144500')]), OrderedDict([(u'type', u'9 Bedroom Properties'), (u'numberOfProperties', u'1'), (u'medianListingPrice', u'9700000'), (u'averageListingPrice', u'9700000')]), OrderedDict([(u'type', u'14 Bedroom Properties'), (u'numberOfProperties', u'1'), (u'medianListingPrice', u'17995000'), (u'averageListingPrice', u'17995000')])])]))]),\n",
       " OrderedDict([(u'weekEndingDate', u'2014-12-13'), (u'listingPrice', OrderedDict([(u'subcategory', [OrderedDict([(u'type', u'All Properties'), (u'numberOfProperties', u'445'), (u'medianListingPrice', u'1093429'), (u'averageListingPrice', u'1683284')]), OrderedDict([(u'type', u'1 Bedroom Properties'), (u'numberOfProperties', u'74'), (u'medianListingPrice', u'760143'), (u'averageListingPrice', u'861182')]), OrderedDict([(u'type', u'2 Bedroom Properties'), (u'numberOfProperties', u'134'), (u'medianListingPrice', u'1000643'), (u'averageListingPrice', u'1183403')]), OrderedDict([(u'type', u'3 Bedroom Properties'), (u'numberOfProperties', u'113'), (u'medianListingPrice', u'1370429'), (u'averageListingPrice', u'1636615')]), OrderedDict([(u'type', u'4 Bedroom Properties'), (u'numberOfProperties', u'48'), (u'medianListingPrice', u'1354286'), (u'averageListingPrice', u'2689280')]), OrderedDict([(u'type', u'5 Bedroom Properties'), (u'numberOfProperties', u'19'), (u'medianListingPrice', u'2801071'), (u'averageListingPrice', u'3377239')]), OrderedDict([(u'type', u'6 Bedroom Properties'), (u'numberOfProperties', u'9'), (u'medianListingPrice', u'4574357'), (u'averageListingPrice', u'5311328')]), OrderedDict([(u'type', u'7 Bedroom Properties'), (u'numberOfProperties', u'5'), (u'medianListingPrice', u'5599571'), (u'averageListingPrice', u'6612771')]), OrderedDict([(u'type', u'8 Bedroom Properties'), (u'numberOfProperties', u'3'), (u'medianListingPrice', u'2816357'), (u'averageListingPrice', u'3701786')]), OrderedDict([(u'type', u'9 Bedroom Properties'), (u'numberOfProperties', u'1'), (u'medianListingPrice', u'9700000'), (u'averageListingPrice', u'9700000')]), OrderedDict([(u'type', u'14 Bedroom Properties'), (u'numberOfProperties', u'1'), (u'medianListingPrice', u'17995000'), (u'averageListingPrice', u'17995000')])])]))]),\n",
       " OrderedDict([(u'weekEndingDate', u'2014-12-20'), (u'listingPrice', OrderedDict([(u'subcategory', [OrderedDict([(u'type', u'All Properties'), (u'numberOfProperties', u'374'), (u'medianListingPrice', u'1083569'), (u'averageListingPrice', u'1655718')]), OrderedDict([(u'type', u'1 Bedroom Properties'), (u'numberOfProperties', u'64'), (u'medianListingPrice', u'764571'), (u'averageListingPrice', u'855419')]), OrderedDict([(u'type', u'2 Bedroom Properties'), (u'numberOfProperties', u'113'), (u'medianListingPrice', u'994786'), (u'averageListingPrice', u'1169975')]), OrderedDict([(u'type', u'3 Bedroom Properties'), (u'numberOfProperties', u'96'), (u'medianListingPrice', u'1343000'), (u'averageListingPrice', u'1607489')]), OrderedDict([(u'type', u'4 Bedroom Properties'), (u'numberOfProperties', u'38'), (u'medianListingPrice', u'1300571'), (u'averageListingPrice', u'2708302')]), OrderedDict([(u'type', u'5 Bedroom Properties'), (u'numberOfProperties', u'17'), (u'medianListingPrice', u'3110286'), (u'averageListingPrice', u'3508184')]), OrderedDict([(u'type', u'6 Bedroom Properties'), (u'numberOfProperties', u'5'), (u'medianListingPrice', u'5640143'), (u'averageListingPrice', u'5631401')]), OrderedDict([(u'type', u'7 Bedroom Properties'), (u'numberOfProperties', u'4'), (u'medianListingPrice', u'7214286'), (u'averageListingPrice', u'8381324')]), OrderedDict([(u'type', u'8 Bedroom Properties'), (u'numberOfProperties', u'3'), (u'medianListingPrice', u'2595000'), (u'averageListingPrice', u'3628000')]), OrderedDict([(u'type', u'9 Bedroom Properties'), (u'numberOfProperties', u'1'), (u'medianListingPrice', u'9700000'), (u'averageListingPrice', u'9700000')])])]))]),\n",
       " OrderedDict([(u'weekEndingDate', u'2014-12-27'), (u'listingPrice', OrderedDict([(u'subcategory', [OrderedDict([(u'type', u'All Properties'), (u'numberOfProperties', u'295'), (u'medianListingPrice', u'1078713'), (u'averageListingPrice', u'1660073')]), OrderedDict([(u'type', u'1 Bedroom Properties'), (u'numberOfProperties', u'50'), (u'medianListingPrice', u'755000'), (u'averageListingPrice', u'817387')]), OrderedDict([(u'type', u'2 Bedroom Properties'), (u'numberOfProperties', u'89'), (u'medianListingPrice', u'1085286'), (u'averageListingPrice', u'1270443')]), OrderedDict([(u'type', u'3 Bedroom Properties'), (u'numberOfProperties', u'76'), (u'medianListingPrice', u'1310571'), (u'averageListingPrice', u'1621999')]), OrderedDict([(u'type', u'4 Bedroom Properties'), (u'numberOfProperties', u'30'), (u'medianListingPrice', u'1275643'), (u'averageListingPrice', u'2733814')]), OrderedDict([(u'type', u'5 Bedroom Properties'), (u'numberOfProperties', u'15'), (u'medianListingPrice', u'3542429'), (u'averageListingPrice', u'3541139')]), OrderedDict([(u'type', u'6 Bedroom Properties'), (u'numberOfProperties', u'3'), (u'medianListingPrice', u'3106250'), (u'averageListingPrice', u'4593750')]), OrderedDict([(u'type', u'7 Bedroom Properties'), (u'numberOfProperties', u'3'), (u'medianListingPrice', u'7500000'), (u'averageListingPrice', u'8796667')]), OrderedDict([(u'type', u'8 Bedroom Properties'), (u'numberOfProperties', u'3'), (u'medianListingPrice', u'2579857'), (u'averageListingPrice', u'3165095')]), OrderedDict([(u'type', u'9 Bedroom Properties'), (u'numberOfProperties', u'1'), (u'medianListingPrice', u'9700000'), (u'averageListingPrice', u'9700000')])])]))]),\n",
       " OrderedDict([(u'weekEndingDate', u'2015-01-03'), (u'listingPrice', OrderedDict([(u'subcategory', [OrderedDict([(u'type', u'All Properties'), (u'numberOfProperties', u'256'), (u'medianListingPrice', u'1013976'), (u'averageListingPrice', u'1595745')]), OrderedDict([(u'type', u'1 Bedroom Properties'), (u'numberOfProperties', u'45'), (u'medianListingPrice', u'764643'), (u'averageListingPrice', u'845610')]), OrderedDict([(u'type', u'2 Bedroom Properties'), (u'numberOfProperties', u'73'), (u'medianListingPrice', u'1079143'), (u'averageListingPrice', u'1287139')]), OrderedDict([(u'type', u'3 Bedroom Properties'), (u'numberOfProperties', u'66'), (u'medianListingPrice', u'1300929'), (u'averageListingPrice', u'1599998')]), OrderedDict([(u'type', u'4 Bedroom Properties'), (u'numberOfProperties', u'23'), (u'medianListingPrice', u'1504357'), (u'averageListingPrice', u'3165079')]), OrderedDict([(u'type', u'5 Bedroom Properties'), (u'numberOfProperties', u'13'), (u'medianListingPrice', u'3549214'), (u'averageListingPrice', u'3582926')]), OrderedDict([(u'type', u'6 Bedroom Properties'), (u'numberOfProperties', u'1'), (u'medianListingPrice', u'3599000'), (u'averageListingPrice', u'3599000')]), OrderedDict([(u'type', u'7 Bedroom Properties'), (u'numberOfProperties', u'2'), (u'medianListingPrice', u'3722857'), (u'averageListingPrice', u'4278572')]), OrderedDict([(u'type', u'8 Bedroom Properties'), (u'numberOfProperties', u'2'), (u'medianListingPrice', u'2542000'), (u'averageListingPrice', u'2542000')]), OrderedDict([(u'type', u'9 Bedroom Properties'), (u'numberOfProperties', u'1'), (u'medianListingPrice', u'9700000'), (u'averageListingPrice', u'9700000')])])]))])]"
      ]
     },
     "execution_count": 41,
     "metadata": {},
     "output_type": "execute_result"
    }
   ],
   "source": [
    "# Lets take a look at the ListingsStats Column\n",
    "listings_data_df.ix['listingStat', 'listingStats']"
   ]
  },
  {
   "cell_type": "code",
   "execution_count": 16,
   "metadata": {
    "collapsed": false
   },
   "outputs": [
    {
     "data": {
      "text/plain": [
       "OrderedDict([(u'city', u'San Francisco'), (u'state', u'CA'), (u'searchResultsURL', u'http://www.trulia.com/CA/San_Francisco/'), (u'cityGuideURL', u'http://www.trulia.com/real_estate/San_Francisco-California/'), (u'heatMapURL', u'http://www.trulia.com/home_prices/California/San_Francisco-heat_map/')])"
      ]
     },
     "execution_count": 16,
     "metadata": {},
     "output_type": "execute_result"
    }
   ],
   "source": [
    "SF_stats_listings['location']"
   ]
  },
  {
   "cell_type": "code",
   "execution_count": 17,
   "metadata": {
    "collapsed": false
   },
   "outputs": [
    {
     "data": {
      "text/html": [
       "<div style=\"max-height:1000px;max-width:1500px;overflow:auto;\">\n",
       "<table border=\"1\" class=\"dataframe\">\n",
       "  <thead>\n",
       "    <tr style=\"text-align: right;\">\n",
       "      <th></th>\n",
       "      <th>listingPrice</th>\n",
       "      <th>weekEndingDate</th>\n",
       "    </tr>\n",
       "  </thead>\n",
       "  <tbody>\n",
       "    <tr>\n",
       "      <th>0 </th>\n",
       "      <td> {u'subcategory': [{u'type': u'All Properties',...</td>\n",
       "      <td> 2014-01-04</td>\n",
       "    </tr>\n",
       "    <tr>\n",
       "      <th>1 </th>\n",
       "      <td> {u'subcategory': [{u'type': u'All Properties',...</td>\n",
       "      <td> 2014-01-11</td>\n",
       "    </tr>\n",
       "    <tr>\n",
       "      <th>2 </th>\n",
       "      <td> {u'subcategory': [{u'type': u'All Properties',...</td>\n",
       "      <td> 2014-01-18</td>\n",
       "    </tr>\n",
       "    <tr>\n",
       "      <th>3 </th>\n",
       "      <td> {u'subcategory': [{u'type': u'All Properties',...</td>\n",
       "      <td> 2014-01-25</td>\n",
       "    </tr>\n",
       "    <tr>\n",
       "      <th>4 </th>\n",
       "      <td> {u'subcategory': [{u'type': u'All Properties',...</td>\n",
       "      <td> 2014-02-01</td>\n",
       "    </tr>\n",
       "    <tr>\n",
       "      <th>5 </th>\n",
       "      <td> {u'subcategory': [{u'type': u'All Properties',...</td>\n",
       "      <td> 2014-02-08</td>\n",
       "    </tr>\n",
       "    <tr>\n",
       "      <th>6 </th>\n",
       "      <td> {u'subcategory': [{u'type': u'All Properties',...</td>\n",
       "      <td> 2014-02-15</td>\n",
       "    </tr>\n",
       "    <tr>\n",
       "      <th>7 </th>\n",
       "      <td> {u'subcategory': [{u'type': u'All Properties',...</td>\n",
       "      <td> 2014-02-22</td>\n",
       "    </tr>\n",
       "    <tr>\n",
       "      <th>8 </th>\n",
       "      <td> {u'subcategory': [{u'type': u'All Properties',...</td>\n",
       "      <td> 2014-03-01</td>\n",
       "    </tr>\n",
       "    <tr>\n",
       "      <th>9 </th>\n",
       "      <td> {u'subcategory': [{u'type': u'All Properties',...</td>\n",
       "      <td> 2014-03-08</td>\n",
       "    </tr>\n",
       "    <tr>\n",
       "      <th>10</th>\n",
       "      <td> {u'subcategory': [{u'type': u'All Properties',...</td>\n",
       "      <td> 2014-03-15</td>\n",
       "    </tr>\n",
       "    <tr>\n",
       "      <th>11</th>\n",
       "      <td> {u'subcategory': [{u'type': u'All Properties',...</td>\n",
       "      <td> 2014-03-22</td>\n",
       "    </tr>\n",
       "    <tr>\n",
       "      <th>12</th>\n",
       "      <td> {u'subcategory': [{u'type': u'All Properties',...</td>\n",
       "      <td> 2014-03-29</td>\n",
       "    </tr>\n",
       "    <tr>\n",
       "      <th>13</th>\n",
       "      <td> {u'subcategory': [{u'type': u'All Properties',...</td>\n",
       "      <td> 2014-04-05</td>\n",
       "    </tr>\n",
       "    <tr>\n",
       "      <th>14</th>\n",
       "      <td> {u'subcategory': [{u'type': u'All Properties',...</td>\n",
       "      <td> 2014-04-12</td>\n",
       "    </tr>\n",
       "    <tr>\n",
       "      <th>15</th>\n",
       "      <td> {u'subcategory': [{u'type': u'All Properties',...</td>\n",
       "      <td> 2014-04-19</td>\n",
       "    </tr>\n",
       "    <tr>\n",
       "      <th>16</th>\n",
       "      <td> {u'subcategory': [{u'type': u'All Properties',...</td>\n",
       "      <td> 2014-04-26</td>\n",
       "    </tr>\n",
       "    <tr>\n",
       "      <th>17</th>\n",
       "      <td> {u'subcategory': [{u'type': u'All Properties',...</td>\n",
       "      <td> 2014-05-03</td>\n",
       "    </tr>\n",
       "    <tr>\n",
       "      <th>18</th>\n",
       "      <td> {u'subcategory': [{u'type': u'All Properties',...</td>\n",
       "      <td> 2014-05-10</td>\n",
       "    </tr>\n",
       "    <tr>\n",
       "      <th>19</th>\n",
       "      <td> {u'subcategory': [{u'type': u'All Properties',...</td>\n",
       "      <td> 2014-05-17</td>\n",
       "    </tr>\n",
       "    <tr>\n",
       "      <th>20</th>\n",
       "      <td> {u'subcategory': [{u'type': u'All Properties',...</td>\n",
       "      <td> 2014-05-24</td>\n",
       "    </tr>\n",
       "    <tr>\n",
       "      <th>21</th>\n",
       "      <td> {u'subcategory': [{u'type': u'All Properties',...</td>\n",
       "      <td> 2014-05-31</td>\n",
       "    </tr>\n",
       "    <tr>\n",
       "      <th>22</th>\n",
       "      <td> {u'subcategory': [{u'type': u'All Properties',...</td>\n",
       "      <td> 2014-06-07</td>\n",
       "    </tr>\n",
       "    <tr>\n",
       "      <th>23</th>\n",
       "      <td> {u'subcategory': [{u'type': u'All Properties',...</td>\n",
       "      <td> 2014-06-14</td>\n",
       "    </tr>\n",
       "    <tr>\n",
       "      <th>24</th>\n",
       "      <td> {u'subcategory': [{u'type': u'All Properties',...</td>\n",
       "      <td> 2014-06-21</td>\n",
       "    </tr>\n",
       "    <tr>\n",
       "      <th>25</th>\n",
       "      <td> {u'subcategory': [{u'type': u'All Properties',...</td>\n",
       "      <td> 2014-06-28</td>\n",
       "    </tr>\n",
       "    <tr>\n",
       "      <th>26</th>\n",
       "      <td> {u'subcategory': [{u'type': u'All Properties',...</td>\n",
       "      <td> 2014-07-05</td>\n",
       "    </tr>\n",
       "    <tr>\n",
       "      <th>27</th>\n",
       "      <td> {u'subcategory': [{u'type': u'All Properties',...</td>\n",
       "      <td> 2014-07-12</td>\n",
       "    </tr>\n",
       "    <tr>\n",
       "      <th>28</th>\n",
       "      <td> {u'subcategory': [{u'type': u'All Properties',...</td>\n",
       "      <td> 2014-07-19</td>\n",
       "    </tr>\n",
       "    <tr>\n",
       "      <th>29</th>\n",
       "      <td> {u'subcategory': [{u'type': u'All Properties',...</td>\n",
       "      <td> 2014-07-26</td>\n",
       "    </tr>\n",
       "    <tr>\n",
       "      <th>30</th>\n",
       "      <td> {u'subcategory': [{u'type': u'All Properties',...</td>\n",
       "      <td> 2014-08-02</td>\n",
       "    </tr>\n",
       "    <tr>\n",
       "      <th>31</th>\n",
       "      <td> {u'subcategory': [{u'type': u'All Properties',...</td>\n",
       "      <td> 2014-08-09</td>\n",
       "    </tr>\n",
       "    <tr>\n",
       "      <th>32</th>\n",
       "      <td> {u'subcategory': [{u'type': u'All Properties',...</td>\n",
       "      <td> 2014-08-16</td>\n",
       "    </tr>\n",
       "    <tr>\n",
       "      <th>33</th>\n",
       "      <td> {u'subcategory': [{u'type': u'All Properties',...</td>\n",
       "      <td> 2014-08-23</td>\n",
       "    </tr>\n",
       "    <tr>\n",
       "      <th>34</th>\n",
       "      <td> {u'subcategory': [{u'type': u'All Properties',...</td>\n",
       "      <td> 2014-08-30</td>\n",
       "    </tr>\n",
       "    <tr>\n",
       "      <th>35</th>\n",
       "      <td> {u'subcategory': [{u'type': u'All Properties',...</td>\n",
       "      <td> 2014-09-06</td>\n",
       "    </tr>\n",
       "    <tr>\n",
       "      <th>36</th>\n",
       "      <td> {u'subcategory': [{u'type': u'All Properties',...</td>\n",
       "      <td> 2014-09-13</td>\n",
       "    </tr>\n",
       "    <tr>\n",
       "      <th>37</th>\n",
       "      <td> {u'subcategory': [{u'type': u'All Properties',...</td>\n",
       "      <td> 2014-09-20</td>\n",
       "    </tr>\n",
       "    <tr>\n",
       "      <th>38</th>\n",
       "      <td> {u'subcategory': [{u'type': u'All Properties',...</td>\n",
       "      <td> 2014-09-27</td>\n",
       "    </tr>\n",
       "    <tr>\n",
       "      <th>39</th>\n",
       "      <td> {u'subcategory': [{u'type': u'All Properties',...</td>\n",
       "      <td> 2014-10-04</td>\n",
       "    </tr>\n",
       "    <tr>\n",
       "      <th>40</th>\n",
       "      <td> {u'subcategory': [{u'type': u'All Properties',...</td>\n",
       "      <td> 2014-10-11</td>\n",
       "    </tr>\n",
       "    <tr>\n",
       "      <th>41</th>\n",
       "      <td> {u'subcategory': [{u'type': u'All Properties',...</td>\n",
       "      <td> 2014-10-18</td>\n",
       "    </tr>\n",
       "    <tr>\n",
       "      <th>42</th>\n",
       "      <td> {u'subcategory': [{u'type': u'All Properties',...</td>\n",
       "      <td> 2014-10-25</td>\n",
       "    </tr>\n",
       "    <tr>\n",
       "      <th>43</th>\n",
       "      <td> {u'subcategory': [{u'type': u'All Properties',...</td>\n",
       "      <td> 2014-11-01</td>\n",
       "    </tr>\n",
       "    <tr>\n",
       "      <th>44</th>\n",
       "      <td> {u'subcategory': [{u'type': u'All Properties',...</td>\n",
       "      <td> 2014-11-08</td>\n",
       "    </tr>\n",
       "    <tr>\n",
       "      <th>45</th>\n",
       "      <td> {u'subcategory': [{u'type': u'All Properties',...</td>\n",
       "      <td> 2014-11-15</td>\n",
       "    </tr>\n",
       "    <tr>\n",
       "      <th>46</th>\n",
       "      <td> {u'subcategory': [{u'type': u'All Properties',...</td>\n",
       "      <td> 2014-11-22</td>\n",
       "    </tr>\n",
       "    <tr>\n",
       "      <th>47</th>\n",
       "      <td> {u'subcategory': [{u'type': u'All Properties',...</td>\n",
       "      <td> 2014-11-29</td>\n",
       "    </tr>\n",
       "    <tr>\n",
       "      <th>48</th>\n",
       "      <td> {u'subcategory': [{u'type': u'All Properties',...</td>\n",
       "      <td> 2014-12-06</td>\n",
       "    </tr>\n",
       "    <tr>\n",
       "      <th>49</th>\n",
       "      <td> {u'subcategory': [{u'type': u'All Properties',...</td>\n",
       "      <td> 2014-12-13</td>\n",
       "    </tr>\n",
       "    <tr>\n",
       "      <th>50</th>\n",
       "      <td> {u'subcategory': [{u'type': u'All Properties',...</td>\n",
       "      <td> 2014-12-20</td>\n",
       "    </tr>\n",
       "    <tr>\n",
       "      <th>51</th>\n",
       "      <td> {u'subcategory': [{u'type': u'All Properties',...</td>\n",
       "      <td> 2014-12-27</td>\n",
       "    </tr>\n",
       "    <tr>\n",
       "      <th>52</th>\n",
       "      <td> {u'subcategory': [{u'type': u'All Properties',...</td>\n",
       "      <td> 2015-01-03</td>\n",
       "    </tr>\n",
       "  </tbody>\n",
       "</table>\n",
       "</div>"
      ],
      "text/plain": [
       "                                         listingPrice weekEndingDate\n",
       "0   {u'subcategory': [{u'type': u'All Properties',...     2014-01-04\n",
       "1   {u'subcategory': [{u'type': u'All Properties',...     2014-01-11\n",
       "2   {u'subcategory': [{u'type': u'All Properties',...     2014-01-18\n",
       "3   {u'subcategory': [{u'type': u'All Properties',...     2014-01-25\n",
       "4   {u'subcategory': [{u'type': u'All Properties',...     2014-02-01\n",
       "5   {u'subcategory': [{u'type': u'All Properties',...     2014-02-08\n",
       "6   {u'subcategory': [{u'type': u'All Properties',...     2014-02-15\n",
       "7   {u'subcategory': [{u'type': u'All Properties',...     2014-02-22\n",
       "8   {u'subcategory': [{u'type': u'All Properties',...     2014-03-01\n",
       "9   {u'subcategory': [{u'type': u'All Properties',...     2014-03-08\n",
       "10  {u'subcategory': [{u'type': u'All Properties',...     2014-03-15\n",
       "11  {u'subcategory': [{u'type': u'All Properties',...     2014-03-22\n",
       "12  {u'subcategory': [{u'type': u'All Properties',...     2014-03-29\n",
       "13  {u'subcategory': [{u'type': u'All Properties',...     2014-04-05\n",
       "14  {u'subcategory': [{u'type': u'All Properties',...     2014-04-12\n",
       "15  {u'subcategory': [{u'type': u'All Properties',...     2014-04-19\n",
       "16  {u'subcategory': [{u'type': u'All Properties',...     2014-04-26\n",
       "17  {u'subcategory': [{u'type': u'All Properties',...     2014-05-03\n",
       "18  {u'subcategory': [{u'type': u'All Properties',...     2014-05-10\n",
       "19  {u'subcategory': [{u'type': u'All Properties',...     2014-05-17\n",
       "20  {u'subcategory': [{u'type': u'All Properties',...     2014-05-24\n",
       "21  {u'subcategory': [{u'type': u'All Properties',...     2014-05-31\n",
       "22  {u'subcategory': [{u'type': u'All Properties',...     2014-06-07\n",
       "23  {u'subcategory': [{u'type': u'All Properties',...     2014-06-14\n",
       "24  {u'subcategory': [{u'type': u'All Properties',...     2014-06-21\n",
       "25  {u'subcategory': [{u'type': u'All Properties',...     2014-06-28\n",
       "26  {u'subcategory': [{u'type': u'All Properties',...     2014-07-05\n",
       "27  {u'subcategory': [{u'type': u'All Properties',...     2014-07-12\n",
       "28  {u'subcategory': [{u'type': u'All Properties',...     2014-07-19\n",
       "29  {u'subcategory': [{u'type': u'All Properties',...     2014-07-26\n",
       "30  {u'subcategory': [{u'type': u'All Properties',...     2014-08-02\n",
       "31  {u'subcategory': [{u'type': u'All Properties',...     2014-08-09\n",
       "32  {u'subcategory': [{u'type': u'All Properties',...     2014-08-16\n",
       "33  {u'subcategory': [{u'type': u'All Properties',...     2014-08-23\n",
       "34  {u'subcategory': [{u'type': u'All Properties',...     2014-08-30\n",
       "35  {u'subcategory': [{u'type': u'All Properties',...     2014-09-06\n",
       "36  {u'subcategory': [{u'type': u'All Properties',...     2014-09-13\n",
       "37  {u'subcategory': [{u'type': u'All Properties',...     2014-09-20\n",
       "38  {u'subcategory': [{u'type': u'All Properties',...     2014-09-27\n",
       "39  {u'subcategory': [{u'type': u'All Properties',...     2014-10-04\n",
       "40  {u'subcategory': [{u'type': u'All Properties',...     2014-10-11\n",
       "41  {u'subcategory': [{u'type': u'All Properties',...     2014-10-18\n",
       "42  {u'subcategory': [{u'type': u'All Properties',...     2014-10-25\n",
       "43  {u'subcategory': [{u'type': u'All Properties',...     2014-11-01\n",
       "44  {u'subcategory': [{u'type': u'All Properties',...     2014-11-08\n",
       "45  {u'subcategory': [{u'type': u'All Properties',...     2014-11-15\n",
       "46  {u'subcategory': [{u'type': u'All Properties',...     2014-11-22\n",
       "47  {u'subcategory': [{u'type': u'All Properties',...     2014-11-29\n",
       "48  {u'subcategory': [{u'type': u'All Properties',...     2014-12-06\n",
       "49  {u'subcategory': [{u'type': u'All Properties',...     2014-12-13\n",
       "50  {u'subcategory': [{u'type': u'All Properties',...     2014-12-20\n",
       "51  {u'subcategory': [{u'type': u'All Properties',...     2014-12-27\n",
       "52  {u'subcategory': [{u'type': u'All Properties',...     2015-01-03"
      ]
     },
     "execution_count": 17,
     "metadata": {},
     "output_type": "execute_result"
    }
   ],
   "source": [
    "# Looks like the data (listings) we need are in these two columns\n",
    "listingsStats_df = pd.DataFrame(listings_data_df.ix['listingStat', 'listingStats'])\n",
    "listingsStats_df"
   ]
  },
  {
   "cell_type": "code",
   "execution_count": 18,
   "metadata": {
    "collapsed": false
   },
   "outputs": [
    {
     "data": {
      "text/plain": [
       "0    [{u'type': u'All Properties', u'numberOfProper...\n",
       "1    [{u'type': u'All Properties', u'numberOfProper...\n",
       "2    [{u'type': u'All Properties', u'numberOfProper...\n",
       "3    [{u'type': u'All Properties', u'numberOfProper...\n",
       "4    [{u'type': u'All Properties', u'numberOfProper...\n",
       "Name: listingPrice, dtype: object"
      ]
     },
     "execution_count": 18,
     "metadata": {},
     "output_type": "execute_result"
    }
   ],
   "source": [
    "# Wow, that's nested again for each Week.\n",
    "weekly_listing_stats = listingsStats_df.listingPrice.map(lambda x: x['subcategory'])\n",
    "weekly_listing_stats.head()"
   ]
  },
  {
   "cell_type": "code",
   "execution_count": 19,
   "metadata": {
    "collapsed": false
   },
   "outputs": [],
   "source": [
    "listings_df = None\n",
    "for idx, wk_date in enumerate(listingsStats_df.weekEndingDate):\n",
    "    df = pd.DataFrame(weekly_listing_stats[idx]) \n",
    "    df['weekEndingDate'] = wk_date\n",
    "    if listings_df is None:\n",
    "        listings_df = df\n",
    "    else:\n",
    "        listings_df = listings_df.append(df)"
   ]
  },
  {
   "cell_type": "code",
   "execution_count": 20,
   "metadata": {
    "collapsed": false
   },
   "outputs": [
    {
     "data": {
      "text/html": [
       "<div style=\"max-height:1000px;max-width:1500px;overflow:auto;\">\n",
       "<table border=\"1\" class=\"dataframe\">\n",
       "  <thead>\n",
       "    <tr style=\"text-align: right;\">\n",
       "      <th></th>\n",
       "      <th>averageListingPrice</th>\n",
       "      <th>medianListingPrice</th>\n",
       "      <th>numberOfProperties</th>\n",
       "      <th>type</th>\n",
       "      <th>weekEndingDate</th>\n",
       "    </tr>\n",
       "  </thead>\n",
       "  <tbody>\n",
       "    <tr>\n",
       "      <th>0</th>\n",
       "      <td> 1660073</td>\n",
       "      <td> 1078713</td>\n",
       "      <td> 295</td>\n",
       "      <td>       All Properties</td>\n",
       "      <td> 2014-12-27</td>\n",
       "    </tr>\n",
       "    <tr>\n",
       "      <th>1</th>\n",
       "      <td>  817387</td>\n",
       "      <td>  755000</td>\n",
       "      <td>  50</td>\n",
       "      <td> 1 Bedroom Properties</td>\n",
       "      <td> 2014-12-27</td>\n",
       "    </tr>\n",
       "    <tr>\n",
       "      <th>2</th>\n",
       "      <td> 1270443</td>\n",
       "      <td> 1085286</td>\n",
       "      <td>  89</td>\n",
       "      <td> 2 Bedroom Properties</td>\n",
       "      <td> 2014-12-27</td>\n",
       "    </tr>\n",
       "    <tr>\n",
       "      <th>3</th>\n",
       "      <td> 1621999</td>\n",
       "      <td> 1310571</td>\n",
       "      <td>  76</td>\n",
       "      <td> 3 Bedroom Properties</td>\n",
       "      <td> 2014-12-27</td>\n",
       "    </tr>\n",
       "    <tr>\n",
       "      <th>4</th>\n",
       "      <td> 2733814</td>\n",
       "      <td> 1275643</td>\n",
       "      <td>  30</td>\n",
       "      <td> 4 Bedroom Properties</td>\n",
       "      <td> 2014-12-27</td>\n",
       "    </tr>\n",
       "    <tr>\n",
       "      <th>5</th>\n",
       "      <td> 3541139</td>\n",
       "      <td> 3542429</td>\n",
       "      <td>  15</td>\n",
       "      <td> 5 Bedroom Properties</td>\n",
       "      <td> 2014-12-27</td>\n",
       "    </tr>\n",
       "    <tr>\n",
       "      <th>6</th>\n",
       "      <td> 4593750</td>\n",
       "      <td> 3106250</td>\n",
       "      <td>   3</td>\n",
       "      <td> 6 Bedroom Properties</td>\n",
       "      <td> 2014-12-27</td>\n",
       "    </tr>\n",
       "    <tr>\n",
       "      <th>7</th>\n",
       "      <td> 8796667</td>\n",
       "      <td> 7500000</td>\n",
       "      <td>   3</td>\n",
       "      <td> 7 Bedroom Properties</td>\n",
       "      <td> 2014-12-27</td>\n",
       "    </tr>\n",
       "    <tr>\n",
       "      <th>8</th>\n",
       "      <td> 3165095</td>\n",
       "      <td> 2579857</td>\n",
       "      <td>   3</td>\n",
       "      <td> 8 Bedroom Properties</td>\n",
       "      <td> 2014-12-27</td>\n",
       "    </tr>\n",
       "    <tr>\n",
       "      <th>9</th>\n",
       "      <td> 9700000</td>\n",
       "      <td> 9700000</td>\n",
       "      <td>   1</td>\n",
       "      <td> 9 Bedroom Properties</td>\n",
       "      <td> 2014-12-27</td>\n",
       "    </tr>\n",
       "    <tr>\n",
       "      <th>0</th>\n",
       "      <td> 1595745</td>\n",
       "      <td> 1013976</td>\n",
       "      <td> 256</td>\n",
       "      <td>       All Properties</td>\n",
       "      <td> 2015-01-03</td>\n",
       "    </tr>\n",
       "    <tr>\n",
       "      <th>1</th>\n",
       "      <td>  845610</td>\n",
       "      <td>  764643</td>\n",
       "      <td>  45</td>\n",
       "      <td> 1 Bedroom Properties</td>\n",
       "      <td> 2015-01-03</td>\n",
       "    </tr>\n",
       "    <tr>\n",
       "      <th>2</th>\n",
       "      <td> 1287139</td>\n",
       "      <td> 1079143</td>\n",
       "      <td>  73</td>\n",
       "      <td> 2 Bedroom Properties</td>\n",
       "      <td> 2015-01-03</td>\n",
       "    </tr>\n",
       "    <tr>\n",
       "      <th>3</th>\n",
       "      <td> 1599998</td>\n",
       "      <td> 1300929</td>\n",
       "      <td>  66</td>\n",
       "      <td> 3 Bedroom Properties</td>\n",
       "      <td> 2015-01-03</td>\n",
       "    </tr>\n",
       "    <tr>\n",
       "      <th>4</th>\n",
       "      <td> 3165079</td>\n",
       "      <td> 1504357</td>\n",
       "      <td>  23</td>\n",
       "      <td> 4 Bedroom Properties</td>\n",
       "      <td> 2015-01-03</td>\n",
       "    </tr>\n",
       "    <tr>\n",
       "      <th>5</th>\n",
       "      <td> 3582926</td>\n",
       "      <td> 3549214</td>\n",
       "      <td>  13</td>\n",
       "      <td> 5 Bedroom Properties</td>\n",
       "      <td> 2015-01-03</td>\n",
       "    </tr>\n",
       "    <tr>\n",
       "      <th>6</th>\n",
       "      <td> 3599000</td>\n",
       "      <td> 3599000</td>\n",
       "      <td>   1</td>\n",
       "      <td> 6 Bedroom Properties</td>\n",
       "      <td> 2015-01-03</td>\n",
       "    </tr>\n",
       "    <tr>\n",
       "      <th>7</th>\n",
       "      <td> 4278572</td>\n",
       "      <td> 3722857</td>\n",
       "      <td>   2</td>\n",
       "      <td> 7 Bedroom Properties</td>\n",
       "      <td> 2015-01-03</td>\n",
       "    </tr>\n",
       "    <tr>\n",
       "      <th>8</th>\n",
       "      <td> 2542000</td>\n",
       "      <td> 2542000</td>\n",
       "      <td>   2</td>\n",
       "      <td> 8 Bedroom Properties</td>\n",
       "      <td> 2015-01-03</td>\n",
       "    </tr>\n",
       "    <tr>\n",
       "      <th>9</th>\n",
       "      <td> 9700000</td>\n",
       "      <td> 9700000</td>\n",
       "      <td>   1</td>\n",
       "      <td> 9 Bedroom Properties</td>\n",
       "      <td> 2015-01-03</td>\n",
       "    </tr>\n",
       "  </tbody>\n",
       "</table>\n",
       "</div>"
      ],
      "text/plain": [
       "  averageListingPrice medianListingPrice numberOfProperties  \\\n",
       "0             1660073            1078713                295   \n",
       "1              817387             755000                 50   \n",
       "2             1270443            1085286                 89   \n",
       "3             1621999            1310571                 76   \n",
       "4             2733814            1275643                 30   \n",
       "5             3541139            3542429                 15   \n",
       "6             4593750            3106250                  3   \n",
       "7             8796667            7500000                  3   \n",
       "8             3165095            2579857                  3   \n",
       "9             9700000            9700000                  1   \n",
       "0             1595745            1013976                256   \n",
       "1              845610             764643                 45   \n",
       "2             1287139            1079143                 73   \n",
       "3             1599998            1300929                 66   \n",
       "4             3165079            1504357                 23   \n",
       "5             3582926            3549214                 13   \n",
       "6             3599000            3599000                  1   \n",
       "7             4278572            3722857                  2   \n",
       "8             2542000            2542000                  2   \n",
       "9             9700000            9700000                  1   \n",
       "\n",
       "                   type weekEndingDate  \n",
       "0        All Properties     2014-12-27  \n",
       "1  1 Bedroom Properties     2014-12-27  \n",
       "2  2 Bedroom Properties     2014-12-27  \n",
       "3  3 Bedroom Properties     2014-12-27  \n",
       "4  4 Bedroom Properties     2014-12-27  \n",
       "5  5 Bedroom Properties     2014-12-27  \n",
       "6  6 Bedroom Properties     2014-12-27  \n",
       "7  7 Bedroom Properties     2014-12-27  \n",
       "8  8 Bedroom Properties     2014-12-27  \n",
       "9  9 Bedroom Properties     2014-12-27  \n",
       "0        All Properties     2015-01-03  \n",
       "1  1 Bedroom Properties     2015-01-03  \n",
       "2  2 Bedroom Properties     2015-01-03  \n",
       "3  3 Bedroom Properties     2015-01-03  \n",
       "4  4 Bedroom Properties     2015-01-03  \n",
       "5  5 Bedroom Properties     2015-01-03  \n",
       "6  6 Bedroom Properties     2015-01-03  \n",
       "7  7 Bedroom Properties     2015-01-03  \n",
       "8  8 Bedroom Properties     2015-01-03  \n",
       "9  9 Bedroom Properties     2015-01-03  "
      ]
     },
     "execution_count": 20,
     "metadata": {},
     "output_type": "execute_result"
    }
   ],
   "source": [
    "listings_df.head(20)\n",
    "listings_df.tail(20)"
   ]
  },
  {
   "cell_type": "markdown",
   "metadata": {},
   "source": [
    "#### Now listings_df, nhoods_df and cities_df has all the data you have extracted"
   ]
  },
  {
   "cell_type": "markdown",
   "metadata": {},
   "source": [
    "# Exploration:"
   ]
  },
  {
   "cell_type": "code",
   "execution_count": 21,
   "metadata": {
    "collapsed": false
   },
   "outputs": [
    {
     "data": {
      "text/html": [
       "<div style=\"max-height:1000px;max-width:1500px;overflow:auto;\">\n",
       "<table border=\"1\" class=\"dataframe\">\n",
       "  <thead>\n",
       "    <tr style=\"text-align: right;\">\n",
       "      <th></th>\n",
       "      <th>count</th>\n",
       "      <th>unique</th>\n",
       "      <th>top</th>\n",
       "      <th>freq</th>\n",
       "    </tr>\n",
       "  </thead>\n",
       "  <tbody>\n",
       "    <tr>\n",
       "      <th>averageListingPrice</th>\n",
       "      <td> 602</td>\n",
       "      <td> 495</td>\n",
       "      <td>       17995000</td>\n",
       "      <td>  29</td>\n",
       "    </tr>\n",
       "    <tr>\n",
       "      <th>medianListingPrice</th>\n",
       "      <td> 602</td>\n",
       "      <td> 481</td>\n",
       "      <td>        3495000</td>\n",
       "      <td>  29</td>\n",
       "    </tr>\n",
       "    <tr>\n",
       "      <th>numberOfProperties</th>\n",
       "      <td> 602</td>\n",
       "      <td> 203</td>\n",
       "      <td>              1</td>\n",
       "      <td> 105</td>\n",
       "    </tr>\n",
       "    <tr>\n",
       "      <th>type</th>\n",
       "      <td> 602</td>\n",
       "      <td>  13</td>\n",
       "      <td> All Properties</td>\n",
       "      <td>  53</td>\n",
       "    </tr>\n",
       "    <tr>\n",
       "      <th>weekEndingDate</th>\n",
       "      <td> 602</td>\n",
       "      <td>  53</td>\n",
       "      <td>     2014-05-24</td>\n",
       "      <td>  13</td>\n",
       "    </tr>\n",
       "  </tbody>\n",
       "</table>\n",
       "</div>"
      ],
      "text/plain": [
       "                    count unique             top freq\n",
       "averageListingPrice   602    495        17995000   29\n",
       "medianListingPrice    602    481         3495000   29\n",
       "numberOfProperties    602    203               1  105\n",
       "type                  602     13  All Properties   53\n",
       "weekEndingDate        602     53      2014-05-24   13"
      ]
     },
     "execution_count": 21,
     "metadata": {},
     "output_type": "execute_result"
    }
   ],
   "source": [
    "listings_df.describe().T"
   ]
  },
  {
   "cell_type": "code",
   "execution_count": null,
   "metadata": {
    "collapsed": false
   },
   "outputs": [],
   "source": []
  },
  {
   "cell_type": "code",
   "execution_count": 22,
   "metadata": {
    "collapsed": false
   },
   "outputs": [
    {
     "data": {
      "text/html": [
       "<div style=\"max-height:1000px;max-width:1500px;overflow:auto;\">\n",
       "<table border=\"1\" class=\"dataframe\">\n",
       "  <thead>\n",
       "    <tr style=\"text-align: right;\">\n",
       "      <th></th>\n",
       "      <th>count</th>\n",
       "      <th>unique</th>\n",
       "      <th>top</th>\n",
       "      <th>freq</th>\n",
       "    </tr>\n",
       "  </thead>\n",
       "  <tbody>\n",
       "    <tr>\n",
       "      <th>id</th>\n",
       "      <td> 92</td>\n",
       "      <td> 92</td>\n",
       "      <td>       1417</td>\n",
       "      <td> 1</td>\n",
       "    </tr>\n",
       "    <tr>\n",
       "      <th>name</th>\n",
       "      <td> 92</td>\n",
       "      <td> 92</td>\n",
       "      <td> Fort Mason</td>\n",
       "      <td> 1</td>\n",
       "    </tr>\n",
       "  </tbody>\n",
       "</table>\n",
       "</div>"
      ],
      "text/plain": [
       "     count unique         top freq\n",
       "id      92     92        1417    1\n",
       "name    92     92  Fort Mason    1"
      ]
     },
     "execution_count": 22,
     "metadata": {},
     "output_type": "execute_result"
    }
   ],
   "source": [
    "nhoods_df.describe().T"
   ]
  },
  {
   "cell_type": "code",
   "execution_count": 23,
   "metadata": {
    "collapsed": false
   },
   "outputs": [
    {
     "data": {
      "text/html": [
       "<div style=\"max-height:1000px;max-width:1500px;overflow:auto;\">\n",
       "<table border=\"1\" class=\"dataframe\">\n",
       "  <thead>\n",
       "    <tr style=\"text-align: right;\">\n",
       "      <th></th>\n",
       "      <th>count</th>\n",
       "      <th>unique</th>\n",
       "      <th>top</th>\n",
       "      <th>freq</th>\n",
       "    </tr>\n",
       "  </thead>\n",
       "  <tbody>\n",
       "    <tr>\n",
       "      <th>cityId</th>\n",
       "      <td> 1080</td>\n",
       "      <td> 1077</td>\n",
       "      <td>            68000</td>\n",
       "      <td> 2</td>\n",
       "    </tr>\n",
       "    <tr>\n",
       "      <th>latitude</th>\n",
       "      <td> 1080</td>\n",
       "      <td> 1080</td>\n",
       "      <td> 36.0582909856844</td>\n",
       "      <td> 1</td>\n",
       "    </tr>\n",
       "    <tr>\n",
       "      <th>longitude</th>\n",
       "      <td> 1080</td>\n",
       "      <td> 1080</td>\n",
       "      <td> -120.13266149829</td>\n",
       "      <td> 1</td>\n",
       "    </tr>\n",
       "    <tr>\n",
       "      <th>name</th>\n",
       "      <td> 1080</td>\n",
       "      <td> 1080</td>\n",
       "      <td>        Hollister</td>\n",
       "      <td> 1</td>\n",
       "    </tr>\n",
       "  </tbody>\n",
       "</table>\n",
       "</div>"
      ],
      "text/plain": [
       "          count unique               top freq\n",
       "cityId     1080   1077             68000    2\n",
       "latitude   1080   1080  36.0582909856844    1\n",
       "longitude  1080   1080  -120.13266149829    1\n",
       "name       1080   1080         Hollister    1"
      ]
     },
     "execution_count": 23,
     "metadata": {},
     "output_type": "execute_result"
    }
   ],
   "source": [
    "cities_df.describe().T"
   ]
  },
  {
   "cell_type": "markdown",
   "metadata": {},
   "source": [
    "### Hypotheses"
   ]
  },
  {
   "cell_type": "markdown",
   "metadata": {},
   "source": [
    "1.The number of home listings in San Francisco, CA in 2014 is less than the number of listings in 2008."
   ]
  },
  {
   "cell_type": "markdown",
   "metadata": {},
   "source": [
    "2.What is the average and median listing price of homes in 2014? by number of bedrooms? by location?"
   ]
  },
  {
   "cell_type": "code",
   "execution_count": 54,
   "metadata": {
    "collapsed": false
   },
   "outputs": [],
   "source": []
  },
  {
   "cell_type": "code",
   "execution_count": null,
   "metadata": {
    "collapsed": false
   },
   "outputs": [],
   "source": []
  }
 ],
 "metadata": {
  "kernelspec": {
   "display_name": "Python 2",
   "language": "python",
   "name": "python2"
  },
  "language_info": {
   "codemirror_mode": {
    "name": "ipython",
    "version": 2
   },
   "file_extension": ".py",
   "mimetype": "text/x-python",
   "name": "python",
   "nbconvert_exporter": "python",
   "pygments_lexer": "ipython2",
   "version": "2.7.9"
  }
 },
 "nbformat": 4,
 "nbformat_minor": 0
}
